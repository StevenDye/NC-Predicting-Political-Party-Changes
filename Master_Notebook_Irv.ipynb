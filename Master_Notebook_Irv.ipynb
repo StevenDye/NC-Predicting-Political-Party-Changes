{
 "cells": [
  {
   "cell_type": "markdown",
   "metadata": {},
   "source": [
    "https://www.ncsbe.gov/index.html\n",
    "https://dl.ncsbe.gov/index.html?prefix=ENRS/"
   ]
  },
  {
   "cell_type": "markdown",
   "metadata": {},
   "source": [
    "Possible hypothesis:\n",
    "\n",
    "If you are changing your party registrtaion, we can guess what party you changed to based on what county you live in and what your original party registration was.\n",
    "\n",
    "Can also include year into analysis\n",
    "\n",
    "Can determine growth of Democrtatic and Republican parties, as well as independents based on voter registration and date\n",
    "\n",
    "Based on how many registered Ds, Rs, and I's, we can predict who will win a particular election."
   ]
  },
  {
   "cell_type": "code",
   "execution_count": 1,
   "metadata": {},
   "outputs": [],
   "source": [
    "import pandas as pd\n",
    "import numpy as np"
   ]
  },
  {
   "cell_type": "code",
   "execution_count": 2,
   "metadata": {},
   "outputs": [],
   "source": [
    "# Records of changing party registration in 2019\n",
    "df = pd.read_csv('2019_party_change_list.csv')\n",
    "\n",
    "# Election results: Municipal Elections: November 5 2019\n",
    "results_df = pd.read_csv('results_pct_20191105.txt', sep=\"\\t\", header=0) # 2019 results\n",
    "\n",
    "# Current Alamance county data: voter registration and voting history\n",
    "#Alamance_cur_vot_reg_df = pd.read_csv('ncvoter1.txt', sep=\"\\t\", header=0)\n",
    "Alamance_cur_vot_hist_df = pd.read_csv('ncvhis1.txt', sep=\"\\t\", header=0)"
   ]
  },
  {
   "cell_type": "code",
   "execution_count": 3,
   "metadata": {},
   "outputs": [
    {
     "data": {
      "text/html": [
       "<div>\n",
       "<style scoped>\n",
       "    .dataframe tbody tr th:only-of-type {\n",
       "        vertical-align: middle;\n",
       "    }\n",
       "\n",
       "    .dataframe tbody tr th {\n",
       "        vertical-align: top;\n",
       "    }\n",
       "\n",
       "    .dataframe thead th {\n",
       "        text-align: right;\n",
       "    }\n",
       "</style>\n",
       "<table border=\"1\" class=\"dataframe\">\n",
       "  <thead>\n",
       "    <tr style=\"text-align: right;\">\n",
       "      <th></th>\n",
       "      <th>county_id</th>\n",
       "      <th>county_desc</th>\n",
       "      <th>voter_reg_num</th>\n",
       "      <th>election_lbl</th>\n",
       "      <th>election_desc</th>\n",
       "      <th>voting_method</th>\n",
       "      <th>voted_party_cd</th>\n",
       "      <th>voted_party_desc</th>\n",
       "      <th>pct_label</th>\n",
       "      <th>pct_description</th>\n",
       "      <th>ncid</th>\n",
       "      <th>voted_county_id</th>\n",
       "      <th>voted_county_desc</th>\n",
       "      <th>vtd_label</th>\n",
       "      <th>vtd_description</th>\n",
       "    </tr>\n",
       "  </thead>\n",
       "  <tbody>\n",
       "    <tr>\n",
       "      <th>0</th>\n",
       "      <td>1</td>\n",
       "      <td>ALAMANCE</td>\n",
       "      <td>9050398</td>\n",
       "      <td>11/08/2016</td>\n",
       "      <td>11/08/2016 GENERAL</td>\n",
       "      <td>ABSENTEE ONESTOP</td>\n",
       "      <td>UNA</td>\n",
       "      <td>UNAFFILIATED</td>\n",
       "      <td>07</td>\n",
       "      <td>ALBRIGHT</td>\n",
       "      <td>AA100000</td>\n",
       "      <td>1</td>\n",
       "      <td>ALAMANCE</td>\n",
       "      <td>07</td>\n",
       "      <td>07</td>\n",
       "    </tr>\n",
       "    <tr>\n",
       "      <th>1</th>\n",
       "      <td>1</td>\n",
       "      <td>ALAMANCE</td>\n",
       "      <td>9050405</td>\n",
       "      <td>11/04/2014</td>\n",
       "      <td>11/04/2014 GENERAL</td>\n",
       "      <td>IN-PERSON</td>\n",
       "      <td>REP</td>\n",
       "      <td>REPUBLICAN</td>\n",
       "      <td>09S</td>\n",
       "      <td>SOUTH THOMPSON</td>\n",
       "      <td>AA100006</td>\n",
       "      <td>1</td>\n",
       "      <td>ALAMANCE</td>\n",
       "      <td>09S</td>\n",
       "      <td>09S</td>\n",
       "    </tr>\n",
       "    <tr>\n",
       "      <th>2</th>\n",
       "      <td>1</td>\n",
       "      <td>ALAMANCE</td>\n",
       "      <td>9050405</td>\n",
       "      <td>11/08/2016</td>\n",
       "      <td>11/08/2016 GENERAL</td>\n",
       "      <td>ABSENTEE ONESTOP</td>\n",
       "      <td>REP</td>\n",
       "      <td>REPUBLICAN</td>\n",
       "      <td>09S</td>\n",
       "      <td>SOUTH THOMPSON</td>\n",
       "      <td>AA100006</td>\n",
       "      <td>1</td>\n",
       "      <td>ALAMANCE</td>\n",
       "      <td>09S</td>\n",
       "      <td>09S</td>\n",
       "    </tr>\n",
       "    <tr>\n",
       "      <th>3</th>\n",
       "      <td>1</td>\n",
       "      <td>ALAMANCE</td>\n",
       "      <td>9050405</td>\n",
       "      <td>03/15/2016</td>\n",
       "      <td>03/15/2016 PRIMARY</td>\n",
       "      <td>IN-PERSON</td>\n",
       "      <td>REP</td>\n",
       "      <td>REPUBLICAN</td>\n",
       "      <td>09S</td>\n",
       "      <td>SOUTH THOMPSON</td>\n",
       "      <td>AA100006</td>\n",
       "      <td>1</td>\n",
       "      <td>ALAMANCE</td>\n",
       "      <td>09S</td>\n",
       "      <td>09S</td>\n",
       "    </tr>\n",
       "    <tr>\n",
       "      <th>4</th>\n",
       "      <td>1</td>\n",
       "      <td>ALAMANCE</td>\n",
       "      <td>9050405</td>\n",
       "      <td>11/06/2018</td>\n",
       "      <td>11/06/2018 GENERAL</td>\n",
       "      <td>IN-PERSON</td>\n",
       "      <td>REP</td>\n",
       "      <td>REPUBLICAN</td>\n",
       "      <td>09S</td>\n",
       "      <td>SOUTH THOMPSON</td>\n",
       "      <td>AA100006</td>\n",
       "      <td>1</td>\n",
       "      <td>ALAMANCE</td>\n",
       "      <td>09S</td>\n",
       "      <td>09S</td>\n",
       "    </tr>\n",
       "  </tbody>\n",
       "</table>\n",
       "</div>"
      ],
      "text/plain": [
       "   county_id county_desc  voter_reg_num election_lbl       election_desc  \\\n",
       "0          1    ALAMANCE        9050398   11/08/2016  11/08/2016 GENERAL   \n",
       "1          1    ALAMANCE        9050405   11/04/2014  11/04/2014 GENERAL   \n",
       "2          1    ALAMANCE        9050405   11/08/2016  11/08/2016 GENERAL   \n",
       "3          1    ALAMANCE        9050405   03/15/2016  03/15/2016 PRIMARY   \n",
       "4          1    ALAMANCE        9050405   11/06/2018  11/06/2018 GENERAL   \n",
       "\n",
       "      voting_method voted_party_cd voted_party_desc pct_label pct_description  \\\n",
       "0  ABSENTEE ONESTOP            UNA     UNAFFILIATED        07        ALBRIGHT   \n",
       "1         IN-PERSON            REP       REPUBLICAN       09S  SOUTH THOMPSON   \n",
       "2  ABSENTEE ONESTOP            REP       REPUBLICAN       09S  SOUTH THOMPSON   \n",
       "3         IN-PERSON            REP       REPUBLICAN       09S  SOUTH THOMPSON   \n",
       "4         IN-PERSON            REP       REPUBLICAN       09S  SOUTH THOMPSON   \n",
       "\n",
       "       ncid  voted_county_id voted_county_desc vtd_label vtd_description  \n",
       "0  AA100000                1          ALAMANCE        07              07  \n",
       "1  AA100006                1          ALAMANCE       09S             09S  \n",
       "2  AA100006                1          ALAMANCE       09S             09S  \n",
       "3  AA100006                1          ALAMANCE       09S             09S  \n",
       "4  AA100006                1          ALAMANCE       09S             09S  "
      ]
     },
     "execution_count": 3,
     "metadata": {},
     "output_type": "execute_result"
    }
   ],
   "source": [
    "Alamance_cur_vot_hist_df.head()"
   ]
  },
  {
   "cell_type": "code",
   "execution_count": 4,
   "metadata": {
    "scrolled": true
   },
   "outputs": [
    {
     "name": "stdout",
     "output_type": "stream",
     "text": [
      "<class 'pandas.core.frame.DataFrame'>\n",
      "RangeIndex: 121591 entries, 0 to 121590\n",
      "Data columns (total 7 columns):\n",
      "county_id        121591 non-null int64\n",
      " county_name     121591 non-null object\n",
      "year_change      121591 non-null int64\n",
      "voter_reg_num    121591 non-null int64\n",
      "party_from       121591 non-null object\n",
      "party_to         121591 non-null object\n",
      "change_dt        121591 non-null object\n",
      "dtypes: int64(3), object(4)\n",
      "memory usage: 6.5+ MB\n"
     ]
    },
    {
     "data": {
      "text/plain": [
       "(           county_id  year_change  voter_reg_num\n",
       " count  121591.000000     121591.0   1.215910e+05\n",
       " mean       54.611517       2019.0   1.191488e+08\n",
       " std        27.458978          0.0   2.891219e+08\n",
       " min         1.000000       2019.0   2.000000e+00\n",
       " 25%        32.000000       2019.0   1.444335e+05\n",
       " 50%        60.000000       2019.0   7.565689e+06\n",
       " 75%        78.000000       2019.0   3.120600e+07\n",
       " max       100.000000       2019.0   1.000549e+09, None)"
      ]
     },
     "execution_count": 4,
     "metadata": {},
     "output_type": "execute_result"
    }
   ],
   "source": [
    "df.describe(), df.info()"
   ]
  },
  {
   "cell_type": "code",
   "execution_count": 5,
   "metadata": {},
   "outputs": [
    {
     "data": {
      "text/html": [
       "<div>\n",
       "<style scoped>\n",
       "    .dataframe tbody tr th:only-of-type {\n",
       "        vertical-align: middle;\n",
       "    }\n",
       "\n",
       "    .dataframe tbody tr th {\n",
       "        vertical-align: top;\n",
       "    }\n",
       "\n",
       "    .dataframe thead th {\n",
       "        text-align: right;\n",
       "    }\n",
       "</style>\n",
       "<table border=\"1\" class=\"dataframe\">\n",
       "  <thead>\n",
       "    <tr style=\"text-align: right;\">\n",
       "      <th></th>\n",
       "      <th>county_id</th>\n",
       "      <th>county_name</th>\n",
       "      <th>year_change</th>\n",
       "      <th>voter_reg_num</th>\n",
       "      <th>party_from</th>\n",
       "      <th>party_to</th>\n",
       "      <th>change_dt</th>\n",
       "    </tr>\n",
       "  </thead>\n",
       "  <tbody>\n",
       "    <tr>\n",
       "      <th>0</th>\n",
       "      <td>1</td>\n",
       "      <td>ALAMANCE</td>\n",
       "      <td>2019</td>\n",
       "      <td>9091101</td>\n",
       "      <td>REP</td>\n",
       "      <td>UNA</td>\n",
       "      <td>05/31/2019</td>\n",
       "    </tr>\n",
       "    <tr>\n",
       "      <th>1</th>\n",
       "      <td>1</td>\n",
       "      <td>ALAMANCE</td>\n",
       "      <td>2019</td>\n",
       "      <td>9151960</td>\n",
       "      <td>REP</td>\n",
       "      <td>UNA</td>\n",
       "      <td>05/31/2019</td>\n",
       "    </tr>\n",
       "    <tr>\n",
       "      <th>2</th>\n",
       "      <td>1</td>\n",
       "      <td>ALAMANCE</td>\n",
       "      <td>2019</td>\n",
       "      <td>9160837</td>\n",
       "      <td>REP</td>\n",
       "      <td>UNA</td>\n",
       "      <td>06/03/2019</td>\n",
       "    </tr>\n",
       "    <tr>\n",
       "      <th>3</th>\n",
       "      <td>1</td>\n",
       "      <td>ALAMANCE</td>\n",
       "      <td>2019</td>\n",
       "      <td>9064668</td>\n",
       "      <td>REP</td>\n",
       "      <td>UNA</td>\n",
       "      <td>06/03/2019</td>\n",
       "    </tr>\n",
       "    <tr>\n",
       "      <th>4</th>\n",
       "      <td>1</td>\n",
       "      <td>ALAMANCE</td>\n",
       "      <td>2019</td>\n",
       "      <td>9159052</td>\n",
       "      <td>DEM</td>\n",
       "      <td>UNA</td>\n",
       "      <td>06/03/2019</td>\n",
       "    </tr>\n",
       "  </tbody>\n",
       "</table>\n",
       "</div>"
      ],
      "text/plain": [
       "   county_id  county_name  year_change  voter_reg_num party_from party_to  \\\n",
       "0          1     ALAMANCE         2019        9091101        REP      UNA   \n",
       "1          1     ALAMANCE         2019        9151960        REP      UNA   \n",
       "2          1     ALAMANCE         2019        9160837        REP      UNA   \n",
       "3          1     ALAMANCE         2019        9064668        REP      UNA   \n",
       "4          1     ALAMANCE         2019        9159052        DEM      UNA   \n",
       "\n",
       "    change_dt  \n",
       "0  05/31/2019  \n",
       "1  05/31/2019  \n",
       "2  06/03/2019  \n",
       "3  06/03/2019  \n",
       "4  06/03/2019  "
      ]
     },
     "execution_count": 5,
     "metadata": {},
     "output_type": "execute_result"
    }
   ],
   "source": [
    "df.head()"
   ]
  },
  {
   "cell_type": "code",
   "execution_count": 6,
   "metadata": {},
   "outputs": [
    {
     "data": {
      "text/plain": [
       "Index(['county_id', ' county_name', 'year_change', 'voter_reg_num',\n",
       "       'party_from', 'party_to', 'change_dt'],\n",
       "      dtype='object')"
      ]
     },
     "execution_count": 6,
     "metadata": {},
     "output_type": "execute_result"
    }
   ],
   "source": [
    "df.columns"
   ]
  },
  {
   "cell_type": "code",
   "execution_count": 7,
   "metadata": {},
   "outputs": [
    {
     "data": {
      "text/plain": [
       "array([  1,   2,   3,   4,   5,   6,   7,   8,   9,  10,  11,  12,  13,\n",
       "        14,  15,  16,  17,  18,  19,  20,  21,  22,  23,  24,  25,  26,\n",
       "        27,  28,  29,  30,  31,  32,  33,  34,  35,  36,  37,  38,  39,\n",
       "        40,  41,  42,  43,  44,  45,  46,  47,  48,  49,  50,  51,  52,\n",
       "        53,  54,  55,  56,  57,  58,  59,  60,  61,  62,  63,  64,  65,\n",
       "        66,  67,  68,  69,  70,  71,  72,  73,  74,  75,  76,  77,  78,\n",
       "        79,  80,  81,  82,  83,  84,  85,  86,  87,  88,  89,  90,  91,\n",
       "        92,  93,  94,  95,  96,  97,  98,  99, 100])"
      ]
     },
     "execution_count": 7,
     "metadata": {},
     "output_type": "execute_result"
    }
   ],
   "source": [
    "df.county_id.unique()"
   ]
  },
  {
   "cell_type": "code",
   "execution_count": 8,
   "metadata": {},
   "outputs": [
    {
     "data": {
      "text/plain": [
       "100"
      ]
     },
     "execution_count": 8,
     "metadata": {},
     "output_type": "execute_result"
    }
   ],
   "source": [
    "len(df[' county_name'].unique())"
   ]
  },
  {
   "cell_type": "code",
   "execution_count": 9,
   "metadata": {},
   "outputs": [],
   "source": [
    "# Looking at 300 classifications"
   ]
  },
  {
   "cell_type": "code",
   "execution_count": 10,
   "metadata": {},
   "outputs": [
    {
     "data": {
      "text/html": [
       "<div>\n",
       "<style scoped>\n",
       "    .dataframe tbody tr th:only-of-type {\n",
       "        vertical-align: middle;\n",
       "    }\n",
       "\n",
       "    .dataframe tbody tr th {\n",
       "        vertical-align: top;\n",
       "    }\n",
       "\n",
       "    .dataframe thead th {\n",
       "        text-align: right;\n",
       "    }\n",
       "</style>\n",
       "<table border=\"1\" class=\"dataframe\">\n",
       "  <thead>\n",
       "    <tr style=\"text-align: right;\">\n",
       "      <th></th>\n",
       "      <th>Contest Group ID</th>\n",
       "      <th>Vote For</th>\n",
       "      <th>Election Day</th>\n",
       "      <th>One Stop</th>\n",
       "      <th>Absentee by Mail</th>\n",
       "      <th>Provisional</th>\n",
       "      <th>Total Votes</th>\n",
       "    </tr>\n",
       "  </thead>\n",
       "  <tbody>\n",
       "    <tr>\n",
       "      <th>count</th>\n",
       "      <td>33787.000000</td>\n",
       "      <td>33787.000000</td>\n",
       "      <td>33787.000000</td>\n",
       "      <td>33787.000000</td>\n",
       "      <td>33787.000000</td>\n",
       "      <td>33787.000000</td>\n",
       "      <td>33787.000000</td>\n",
       "    </tr>\n",
       "    <tr>\n",
       "      <th>mean</th>\n",
       "      <td>79833.420576</td>\n",
       "      <td>2.284725</td>\n",
       "      <td>51.561488</td>\n",
       "      <td>16.300707</td>\n",
       "      <td>0.586557</td>\n",
       "      <td>0.156362</td>\n",
       "      <td>68.605114</td>\n",
       "    </tr>\n",
       "    <tr>\n",
       "      <th>std</th>\n",
       "      <td>205382.799810</td>\n",
       "      <td>1.347410</td>\n",
       "      <td>101.359641</td>\n",
       "      <td>71.628672</td>\n",
       "      <td>9.497331</td>\n",
       "      <td>2.227693</td>\n",
       "      <td>139.978531</td>\n",
       "    </tr>\n",
       "    <tr>\n",
       "      <th>min</th>\n",
       "      <td>1.000000</td>\n",
       "      <td>1.000000</td>\n",
       "      <td>0.000000</td>\n",
       "      <td>-1.000000</td>\n",
       "      <td>0.000000</td>\n",
       "      <td>0.000000</td>\n",
       "      <td>0.000000</td>\n",
       "    </tr>\n",
       "    <tr>\n",
       "      <th>25%</th>\n",
       "      <td>3.000000</td>\n",
       "      <td>1.000000</td>\n",
       "      <td>0.000000</td>\n",
       "      <td>0.000000</td>\n",
       "      <td>0.000000</td>\n",
       "      <td>0.000000</td>\n",
       "      <td>0.000000</td>\n",
       "    </tr>\n",
       "    <tr>\n",
       "      <th>50%</th>\n",
       "      <td>9.000000</td>\n",
       "      <td>2.000000</td>\n",
       "      <td>1.000000</td>\n",
       "      <td>0.000000</td>\n",
       "      <td>0.000000</td>\n",
       "      <td>0.000000</td>\n",
       "      <td>4.000000</td>\n",
       "    </tr>\n",
       "    <tr>\n",
       "      <th>75%</th>\n",
       "      <td>21.000000</td>\n",
       "      <td>3.000000</td>\n",
       "      <td>59.000000</td>\n",
       "      <td>7.000000</td>\n",
       "      <td>0.000000</td>\n",
       "      <td>0.000000</td>\n",
       "      <td>77.000000</td>\n",
       "    </tr>\n",
       "    <tr>\n",
       "      <th>max</th>\n",
       "      <td>980019.000000</td>\n",
       "      <td>7.000000</td>\n",
       "      <td>1219.000000</td>\n",
       "      <td>3226.000000</td>\n",
       "      <td>666.000000</td>\n",
       "      <td>153.000000</td>\n",
       "      <td>3226.000000</td>\n",
       "    </tr>\n",
       "  </tbody>\n",
       "</table>\n",
       "</div>"
      ],
      "text/plain": [
       "       Contest Group ID      Vote For  Election Day      One Stop  \\\n",
       "count      33787.000000  33787.000000  33787.000000  33787.000000   \n",
       "mean       79833.420576      2.284725     51.561488     16.300707   \n",
       "std       205382.799810      1.347410    101.359641     71.628672   \n",
       "min            1.000000      1.000000      0.000000     -1.000000   \n",
       "25%            3.000000      1.000000      0.000000      0.000000   \n",
       "50%            9.000000      2.000000      1.000000      0.000000   \n",
       "75%           21.000000      3.000000     59.000000      7.000000   \n",
       "max       980019.000000      7.000000   1219.000000   3226.000000   \n",
       "\n",
       "       Absentee by Mail   Provisional   Total Votes  \n",
       "count      33787.000000  33787.000000  33787.000000  \n",
       "mean           0.586557      0.156362     68.605114  \n",
       "std            9.497331      2.227693    139.978531  \n",
       "min            0.000000      0.000000      0.000000  \n",
       "25%            0.000000      0.000000      0.000000  \n",
       "50%            0.000000      0.000000      4.000000  \n",
       "75%            0.000000      0.000000     77.000000  \n",
       "max          666.000000    153.000000   3226.000000  "
      ]
     },
     "execution_count": 10,
     "metadata": {},
     "output_type": "execute_result"
    }
   ],
   "source": [
    "results_df.describe()"
   ]
  },
  {
   "cell_type": "code",
   "execution_count": 11,
   "metadata": {},
   "outputs": [
    {
     "name": "stdout",
     "output_type": "stream",
     "text": [
      "<class 'pandas.core.frame.DataFrame'>\n",
      "RangeIndex: 33787 entries, 0 to 33786\n",
      "Data columns (total 15 columns):\n",
      "County              33787 non-null object\n",
      "Election Date       33787 non-null object\n",
      "Precinct            33787 non-null object\n",
      "Contest Group ID    33787 non-null int64\n",
      "Contest Type        33787 non-null object\n",
      "Contest Name        33787 non-null object\n",
      "Choice              33787 non-null object\n",
      "Choice Party        21587 non-null object\n",
      "Vote For            33787 non-null int64\n",
      "Election Day        33787 non-null int64\n",
      "One Stop            33787 non-null int64\n",
      "Absentee by Mail    33787 non-null int64\n",
      "Provisional         33787 non-null int64\n",
      "Total Votes         33787 non-null int64\n",
      "Real Precinct       33787 non-null object\n",
      "dtypes: int64(7), object(8)\n",
      "memory usage: 3.9+ MB\n"
     ]
    }
   ],
   "source": [
    "results_df.info()"
   ]
  },
  {
   "cell_type": "code",
   "execution_count": 12,
   "metadata": {},
   "outputs": [
    {
     "data": {
      "text/html": [
       "<div>\n",
       "<style scoped>\n",
       "    .dataframe tbody tr th:only-of-type {\n",
       "        vertical-align: middle;\n",
       "    }\n",
       "\n",
       "    .dataframe tbody tr th {\n",
       "        vertical-align: top;\n",
       "    }\n",
       "\n",
       "    .dataframe thead th {\n",
       "        text-align: right;\n",
       "    }\n",
       "</style>\n",
       "<table border=\"1\" class=\"dataframe\">\n",
       "  <thead>\n",
       "    <tr style=\"text-align: right;\">\n",
       "      <th></th>\n",
       "      <th>county_id</th>\n",
       "      <th>county_name</th>\n",
       "      <th>year_change</th>\n",
       "      <th>voter_reg_num</th>\n",
       "      <th>party_from</th>\n",
       "      <th>party_to</th>\n",
       "      <th>change_dt</th>\n",
       "    </tr>\n",
       "  </thead>\n",
       "  <tbody>\n",
       "    <tr>\n",
       "      <th>0</th>\n",
       "      <td>1</td>\n",
       "      <td>ALAMANCE</td>\n",
       "      <td>2019</td>\n",
       "      <td>9091101</td>\n",
       "      <td>REP</td>\n",
       "      <td>UNA</td>\n",
       "      <td>05/31/2019</td>\n",
       "    </tr>\n",
       "    <tr>\n",
       "      <th>1</th>\n",
       "      <td>1</td>\n",
       "      <td>ALAMANCE</td>\n",
       "      <td>2019</td>\n",
       "      <td>9151960</td>\n",
       "      <td>REP</td>\n",
       "      <td>UNA</td>\n",
       "      <td>05/31/2019</td>\n",
       "    </tr>\n",
       "    <tr>\n",
       "      <th>2</th>\n",
       "      <td>1</td>\n",
       "      <td>ALAMANCE</td>\n",
       "      <td>2019</td>\n",
       "      <td>9160837</td>\n",
       "      <td>REP</td>\n",
       "      <td>UNA</td>\n",
       "      <td>06/03/2019</td>\n",
       "    </tr>\n",
       "    <tr>\n",
       "      <th>3</th>\n",
       "      <td>1</td>\n",
       "      <td>ALAMANCE</td>\n",
       "      <td>2019</td>\n",
       "      <td>9064668</td>\n",
       "      <td>REP</td>\n",
       "      <td>UNA</td>\n",
       "      <td>06/03/2019</td>\n",
       "    </tr>\n",
       "    <tr>\n",
       "      <th>4</th>\n",
       "      <td>1</td>\n",
       "      <td>ALAMANCE</td>\n",
       "      <td>2019</td>\n",
       "      <td>9159052</td>\n",
       "      <td>DEM</td>\n",
       "      <td>UNA</td>\n",
       "      <td>06/03/2019</td>\n",
       "    </tr>\n",
       "    <tr>\n",
       "      <th>...</th>\n",
       "      <td>...</td>\n",
       "      <td>...</td>\n",
       "      <td>...</td>\n",
       "      <td>...</td>\n",
       "      <td>...</td>\n",
       "      <td>...</td>\n",
       "      <td>...</td>\n",
       "    </tr>\n",
       "    <tr>\n",
       "      <th>121586</th>\n",
       "      <td>100</td>\n",
       "      <td>YANCEY</td>\n",
       "      <td>2019</td>\n",
       "      <td>22113</td>\n",
       "      <td>REP</td>\n",
       "      <td>DEM</td>\n",
       "      <td>02/18/2019</td>\n",
       "    </tr>\n",
       "    <tr>\n",
       "      <th>121587</th>\n",
       "      <td>100</td>\n",
       "      <td>YANCEY</td>\n",
       "      <td>2019</td>\n",
       "      <td>26147</td>\n",
       "      <td>DEM</td>\n",
       "      <td>UNA</td>\n",
       "      <td>02/19/2019</td>\n",
       "    </tr>\n",
       "    <tr>\n",
       "      <th>121588</th>\n",
       "      <td>100</td>\n",
       "      <td>YANCEY</td>\n",
       "      <td>2019</td>\n",
       "      <td>9918</td>\n",
       "      <td>DEM</td>\n",
       "      <td>REP</td>\n",
       "      <td>02/20/2019</td>\n",
       "    </tr>\n",
       "    <tr>\n",
       "      <th>121589</th>\n",
       "      <td>100</td>\n",
       "      <td>YANCEY</td>\n",
       "      <td>2019</td>\n",
       "      <td>17346</td>\n",
       "      <td>DEM</td>\n",
       "      <td>REP</td>\n",
       "      <td>02/25/2019</td>\n",
       "    </tr>\n",
       "    <tr>\n",
       "      <th>121590</th>\n",
       "      <td>100</td>\n",
       "      <td>YANCEY</td>\n",
       "      <td>2019</td>\n",
       "      <td>19764</td>\n",
       "      <td>REP</td>\n",
       "      <td>DEM</td>\n",
       "      <td>02/25/2019</td>\n",
       "    </tr>\n",
       "  </tbody>\n",
       "</table>\n",
       "<p>121585 rows × 7 columns</p>\n",
       "</div>"
      ],
      "text/plain": [
       "        county_id  county_name  year_change  voter_reg_num party_from  \\\n",
       "0               1     ALAMANCE         2019        9091101        REP   \n",
       "1               1     ALAMANCE         2019        9151960        REP   \n",
       "2               1     ALAMANCE         2019        9160837        REP   \n",
       "3               1     ALAMANCE         2019        9064668        REP   \n",
       "4               1     ALAMANCE         2019        9159052        DEM   \n",
       "...           ...          ...          ...            ...        ...   \n",
       "121586        100       YANCEY         2019          22113        REP   \n",
       "121587        100       YANCEY         2019          26147        DEM   \n",
       "121588        100       YANCEY         2019           9918        DEM   \n",
       "121589        100       YANCEY         2019          17346        DEM   \n",
       "121590        100       YANCEY         2019          19764        REP   \n",
       "\n",
       "       party_to   change_dt  \n",
       "0           UNA  05/31/2019  \n",
       "1           UNA  05/31/2019  \n",
       "2           UNA  06/03/2019  \n",
       "3           UNA  06/03/2019  \n",
       "4           UNA  06/03/2019  \n",
       "...         ...         ...  \n",
       "121586      DEM  02/18/2019  \n",
       "121587      UNA  02/19/2019  \n",
       "121588      REP  02/20/2019  \n",
       "121589      REP  02/25/2019  \n",
       "121590      DEM  02/25/2019  \n",
       "\n",
       "[121585 rows x 7 columns]"
      ]
     },
     "execution_count": 12,
     "metadata": {},
     "output_type": "execute_result"
    }
   ],
   "source": [
    "df.drop_duplicates()"
   ]
  },
  {
   "cell_type": "code",
   "execution_count": 13,
   "metadata": {},
   "outputs": [
    {
     "name": "stdout",
     "output_type": "stream",
     "text": [
      "<class 'pandas.core.frame.DataFrame'>\n",
      "RangeIndex: 121591 entries, 0 to 121590\n",
      "Data columns (total 7 columns):\n",
      "county_id        121591 non-null int64\n",
      " county_name     121591 non-null object\n",
      "year_change      121591 non-null int64\n",
      "voter_reg_num    121591 non-null int64\n",
      "party_from       121591 non-null object\n",
      "party_to         121591 non-null object\n",
      "change_dt        121591 non-null object\n",
      "dtypes: int64(3), object(4)\n",
      "memory usage: 6.5+ MB\n"
     ]
    }
   ],
   "source": [
    "df.info()"
   ]
  },
  {
   "cell_type": "code",
   "execution_count": 14,
   "metadata": {},
   "outputs": [
    {
     "data": {
      "text/plain": [
       "array(['UNA', 'REP', 'DEM', 'LIB', 'CST', 'GRE'], dtype=object)"
      ]
     },
     "execution_count": 14,
     "metadata": {},
     "output_type": "execute_result"
    }
   ],
   "source": [
    "df.party_to.unique()"
   ]
  },
  {
   "cell_type": "code",
   "execution_count": 15,
   "metadata": {},
   "outputs": [],
   "source": [
    "#UNA - unaffiliated\n",
    "#REP - republican\n",
    "#DEM - democratic\n",
    "#LIB - libertarian\n",
    "#CST - constitutional\n",
    "#GRE - green\n",
    "\n",
    "#Data current as of 12/2/2019"
   ]
  },
  {
   "cell_type": "code",
   "execution_count": 16,
   "metadata": {},
   "outputs": [
    {
     "data": {
      "text/plain": [
       "array(['REP', 'DEM', 'UNA', 'LIB', 'GRE'], dtype=object)"
      ]
     },
     "execution_count": 16,
     "metadata": {},
     "output_type": "execute_result"
    }
   ],
   "source": [
    "df.party_from.unique()"
   ]
  },
  {
   "cell_type": "code",
   "execution_count": 17,
   "metadata": {},
   "outputs": [],
   "source": [
    "#.unique should pick up NaNs and other nulls.  We have none here."
   ]
  },
  {
   "cell_type": "code",
   "execution_count": 18,
   "metadata": {},
   "outputs": [
    {
     "data": {
      "text/plain": [
       "DEM    45008\n",
       "UNA    43112\n",
       "REP    31095\n",
       "LIB     2234\n",
       "GRE      142\n",
       "Name: party_from, dtype: int64"
      ]
     },
     "execution_count": 18,
     "metadata": {},
     "output_type": "execute_result"
    }
   ],
   "source": [
    "df.party_from.value_counts()"
   ]
  },
  {
   "cell_type": "code",
   "execution_count": 19,
   "metadata": {},
   "outputs": [
    {
     "data": {
      "text/plain": [
       "UNA    55568\n",
       "REP    33318\n",
       "DEM    28979\n",
       "LIB     2511\n",
       "CST      797\n",
       "GRE      418\n",
       "Name: party_to, dtype: int64"
      ]
     },
     "execution_count": 19,
     "metadata": {},
     "output_type": "execute_result"
    }
   ],
   "source": [
    "df.party_to.value_counts()"
   ]
  },
  {
   "cell_type": "code",
   "execution_count": 20,
   "metadata": {},
   "outputs": [],
   "source": [
    "df_dem = df.loc[df.party_from == 'DEM']"
   ]
  },
  {
   "cell_type": "code",
   "execution_count": 21,
   "metadata": {},
   "outputs": [
    {
     "data": {
      "text/plain": [
       "UNA    30010\n",
       "REP    14162\n",
       "LIB      496\n",
       "CST      199\n",
       "GRE      141\n",
       "Name: party_to, dtype: int64"
      ]
     },
     "execution_count": 21,
     "metadata": {},
     "output_type": "execute_result"
    }
   ],
   "source": [
    "df_dem.party_to.value_counts()"
   ]
  },
  {
   "cell_type": "code",
   "execution_count": 22,
   "metadata": {},
   "outputs": [],
   "source": [
    "df_rep = df.loc[df.party_from == 'REP']"
   ]
  },
  {
   "cell_type": "code",
   "execution_count": 23,
   "metadata": {},
   "outputs": [
    {
     "data": {
      "text/plain": [
       "UNA    24220\n",
       "DEM     5788\n",
       "LIB      807\n",
       "CST      222\n",
       "GRE       58\n",
       "Name: party_to, dtype: int64"
      ]
     },
     "execution_count": 23,
     "metadata": {},
     "output_type": "execute_result"
    }
   ],
   "source": [
    "df_rep.party_to.value_counts()"
   ]
  },
  {
   "cell_type": "code",
   "execution_count": 24,
   "metadata": {},
   "outputs": [],
   "source": [
    "df_una = df.loc[df.party_from == 'UNA']"
   ]
  },
  {
   "cell_type": "code",
   "execution_count": 25,
   "metadata": {},
   "outputs": [
    {
     "data": {
      "text/plain": [
       "DEM    22646\n",
       "REP    18706\n",
       "LIB     1206\n",
       "CST      357\n",
       "GRE      197\n",
       "Name: party_to, dtype: int64"
      ]
     },
     "execution_count": 25,
     "metadata": {},
     "output_type": "execute_result"
    }
   ],
   "source": [
    "df_una.party_to.value_counts()"
   ]
  },
  {
   "cell_type": "code",
   "execution_count": 26,
   "metadata": {},
   "outputs": [],
   "source": [
    "import matplotlib.pyplot as plt\n",
    "import seaborn as sns\n"
   ]
  },
  {
   "cell_type": "code",
   "execution_count": 27,
   "metadata": {},
   "outputs": [],
   "source": [
    "df.change_dt = pd.to_datetime(df.change_dt)"
   ]
  },
  {
   "cell_type": "code",
   "execution_count": 28,
   "metadata": {},
   "outputs": [
    {
     "data": {
      "text/html": [
       "<div>\n",
       "<style scoped>\n",
       "    .dataframe tbody tr th:only-of-type {\n",
       "        vertical-align: middle;\n",
       "    }\n",
       "\n",
       "    .dataframe tbody tr th {\n",
       "        vertical-align: top;\n",
       "    }\n",
       "\n",
       "    .dataframe thead th {\n",
       "        text-align: right;\n",
       "    }\n",
       "</style>\n",
       "<table border=\"1\" class=\"dataframe\">\n",
       "  <thead>\n",
       "    <tr style=\"text-align: right;\">\n",
       "      <th></th>\n",
       "      <th>county_id</th>\n",
       "      <th>county_name</th>\n",
       "      <th>year_change</th>\n",
       "      <th>voter_reg_num</th>\n",
       "      <th>party_from</th>\n",
       "      <th>party_to</th>\n",
       "      <th>change_dt</th>\n",
       "    </tr>\n",
       "  </thead>\n",
       "  <tbody>\n",
       "    <tr>\n",
       "      <th>0</th>\n",
       "      <td>1</td>\n",
       "      <td>ALAMANCE</td>\n",
       "      <td>2019</td>\n",
       "      <td>9091101</td>\n",
       "      <td>REP</td>\n",
       "      <td>UNA</td>\n",
       "      <td>2019-05-31</td>\n",
       "    </tr>\n",
       "    <tr>\n",
       "      <th>1</th>\n",
       "      <td>1</td>\n",
       "      <td>ALAMANCE</td>\n",
       "      <td>2019</td>\n",
       "      <td>9151960</td>\n",
       "      <td>REP</td>\n",
       "      <td>UNA</td>\n",
       "      <td>2019-05-31</td>\n",
       "    </tr>\n",
       "    <tr>\n",
       "      <th>2</th>\n",
       "      <td>1</td>\n",
       "      <td>ALAMANCE</td>\n",
       "      <td>2019</td>\n",
       "      <td>9160837</td>\n",
       "      <td>REP</td>\n",
       "      <td>UNA</td>\n",
       "      <td>2019-06-03</td>\n",
       "    </tr>\n",
       "    <tr>\n",
       "      <th>3</th>\n",
       "      <td>1</td>\n",
       "      <td>ALAMANCE</td>\n",
       "      <td>2019</td>\n",
       "      <td>9064668</td>\n",
       "      <td>REP</td>\n",
       "      <td>UNA</td>\n",
       "      <td>2019-06-03</td>\n",
       "    </tr>\n",
       "    <tr>\n",
       "      <th>4</th>\n",
       "      <td>1</td>\n",
       "      <td>ALAMANCE</td>\n",
       "      <td>2019</td>\n",
       "      <td>9159052</td>\n",
       "      <td>DEM</td>\n",
       "      <td>UNA</td>\n",
       "      <td>2019-06-03</td>\n",
       "    </tr>\n",
       "  </tbody>\n",
       "</table>\n",
       "</div>"
      ],
      "text/plain": [
       "   county_id  county_name  year_change  voter_reg_num party_from party_to  \\\n",
       "0          1     ALAMANCE         2019        9091101        REP      UNA   \n",
       "1          1     ALAMANCE         2019        9151960        REP      UNA   \n",
       "2          1     ALAMANCE         2019        9160837        REP      UNA   \n",
       "3          1     ALAMANCE         2019        9064668        REP      UNA   \n",
       "4          1     ALAMANCE         2019        9159052        DEM      UNA   \n",
       "\n",
       "   change_dt  \n",
       "0 2019-05-31  \n",
       "1 2019-05-31  \n",
       "2 2019-06-03  \n",
       "3 2019-06-03  \n",
       "4 2019-06-03  "
      ]
     },
     "execution_count": 28,
     "metadata": {},
     "output_type": "execute_result"
    }
   ],
   "source": [
    "df.head()"
   ]
  },
  {
   "cell_type": "code",
   "execution_count": 29,
   "metadata": {},
   "outputs": [
    {
     "name": "stderr",
     "output_type": "stream",
     "text": [
      "//anaconda3/lib/python3.7/site-packages/pandas/plotting/_matplotlib/converter.py:103: FutureWarning: Using an implicitly registered datetime converter for a matplotlib plotting method. The converter was registered by pandas on import. Future versions of pandas will require you to explicitly register matplotlib converters.\n",
      "\n",
      "To register the converters:\n",
      "\t>>> from pandas.plotting import register_matplotlib_converters\n",
      "\t>>> register_matplotlib_converters()\n",
      "  warnings.warn(msg, FutureWarning)\n"
     ]
    },
    {
     "data": {
      "text/plain": [
       "<BarContainer object of 261 artists>"
      ]
     },
     "execution_count": 29,
     "metadata": {},
     "output_type": "execute_result"
    },
    {
     "data": {
      "image/png": "[encoded data removed]",
      "text/plain": [
       "<Figure size 1080x576 with 1 Axes>"
      ]
     },
     "metadata": {
      "needs_background": "light"
     },
     "output_type": "display_data"
    }
   ],
   "source": [
    "plt.figure(figsize = (15, 8))\n",
    "plt.bar(df.change_dt.unique(), df.change_dt.value_counts())"
   ]
  },
  {
   "cell_type": "code",
   "execution_count": null,
   "metadata": {},
   "outputs": [],
   "source": []
  },
  {
   "cell_type": "markdown",
   "metadata": {},
   "source": [
    "\n",
    "# Module 4 -  Final Project Specifications\n",
    "\n",
    "## Introduction\n",
    "\n",
    "In this document, we'll review all the guidelines and specifications for the final project for Module 4.\n",
    "\n",
    "## Objectives\n",
    "\n",
    "* Identify all required aspects of the Final Project for Module 4\n",
    "* Describe all required deliverables\n",
    "* Summarize what constitutes a successful project\n",
    "\n",
    "### Final Project Summary\n",
    "\n",
    "Another module down--you're absolutely crushing it! For this project, you'll get to flex your **Regression & Classification** muscles!\n",
    "\n",
    "For this module's final project, we're going to put your new found **Regression & Classification** skills to the test.\n",
    "\n",
    "### The Project\n",
    "\n",
    "For this project, you will be acting as a consultant for a fictional firm. As a part of your data exploration, come up with a _driving question_ based on this data. <br>\n",
    "\n",
    "![crispdm](https://www.stellarconsulting.co.nz/wp-content/uploads/2017/08/CRISP-DM_Process_1000x600.jpg)\n",
    "\n",
    "For example, if you were given a data set of housing price data for a given city, a driving question might be:\n",
    "\n",
    "> Based on forecasts, what are the top 5 best zip codes for us to invest in?\n",
    "\n",
    "\n",
    "## The Deliverables\n",
    "\n",
    "The goal of this project is to have you complete a very common real-world task in regard to Regression & Classification Modeling. However, real world problems often come with a significant degree of ambiguity, which requires you to use your knowledge of statistics and data science to think critically about and answer.\n",
    "\n",
    "In short, to pass this project, demonstrating the quality and thoughtfulness of your **overall recommendation** is at least as important as successfully building your models!\n",
    "\n",
    "In order to successfully complete this project, you must have:\n",
    "\n",
    "* A well-documented master **_Jupyter Notebook_** explaining the rational and decisions of your project.\n",
    "* A dataset that is **not overly used** online in data science examples. \n",
    "* Well organized code in modularized .py files.\n",
    "* Should be able to justify your decisions in your notebook. Some decisions may include: Was there data leakage? Which algorithms did you use and why? Any tuning of the model? How did you set a certain parameter to a certain value? Cross-validation, normalization, etc.\n",
    "* A **_Presentation_** that explains your rationale and methodology.\n",
    "\n",
    "\n",
    "\n",
    "\n",
    "### Master Jupyter Notebook Must-Haves\n",
    "\n",
    "1. You must source & clean your data.  **All boring stuff should be pushed to a .py file** that is imported.  A single data set (albeit possibly from multiple sources) should be able to support all of the following requirements.\n",
    "2. You can do a regression or a classification, **compare different models and compare their performances**. Be sure that you include justifications of these decisions in your technical notebook.\n",
    "3. Visualizations to support each of your models built. *Make sure to check for any assumptions.\n",
    "\n",
    "#### Organization/Code Cleanliness\n",
    "\n",
    "The notebook should be well organized, easy to follow, and code is modularized and commented where appropriate.\n",
    "\n",
    "* High level: \n",
    " - The notebook contains well-formatted, professional looking markdown cells.\n",
    " - Functions are organized well in different name-space related `.py` files (data cleaning, feature engineering, modeling, assumption checking, etc) \n",
    " - All functions have docstrings that act as professional-quality documentation\n",
    " - All `.py` files should use PEP8 style guide\n",
    "* The notebook is written to _technical audiences_ with a way to both understand your approach and reproduce your results. The target audience for this deliverable is other data scientists looking to validate your findings.\n",
    "* Data visualizations you create should be clearly labeled and contextualized--that is, they fit with the surrounding code or problems you're trying to solve. No dropping data visualizations randomly around your notebook without any context!\n",
    "\n",
    "### Github Guidelines\n",
    "- Project deliverables should be stored in a GitHub repo with a descriptive name (`Predicting Impact of USAID grants on Women's Safety in Congo` vs `Mod 4 project`)\n",
    "- Repo must be well formatted and organized and contains:\n",
    " - LICENSE\n",
    " - README.md that included a link to the slide-deck, structure of the repo, partner\n",
    " - Data Folder with clearly marked final dataset\n",
    " - A Notebook Folder containing all older versions or partial versions of your notebooks\n",
    " - Utils folder with all your .py files\n",
    " - Master notebook in the main repo (outside of the notebook folder)\n",
    "- Final project material should live on the *master* branch\n",
    "- Individuals over the course of the project, should work on their own branch, daily merges to master branch. \n",
    "\n",
    "### Visualizations\n",
    "\n",
    "##### EDA Visualizations  \n",
    "Exploratory data analysis (EDA) is an approach to analyzing data sets to summarize their main characteristics, often with visual methods.  This is a key element of all data science projects.  It is important to conduct EDA before doing any modeling so that you understand the characteristics of your data, to help with data cleaning, and to apply appropriate models.\n",
    "\n",
    "The objectives of EDA are to:\n",
    "\n",
    "- To find key business insights that modeling is not necessary for\n",
    "- To uncover anomalies in your data to assist in data cleaning\n",
    "- Suggest hypotheses about the causes of observed phenomena\n",
    "- Assess assumptions of any model you are going to use\n",
    "- Support the selection of appropriate models and techniques\n",
    "\n",
    "\n",
    "##### Model/Metric Visualizations\n",
    "\n",
    "Regression & Classification are areas of data science that lend themselves well to intuitive data visualizations. **_Any findings worth mentioning in this problem are probably also worth visualizing_**. Your notebook should make use of data visualizations as appropriate to make your findings obvious to any readers.\n",
    "\n",
    "Also, remember that if a visualization is worth creating, then it's also worth taking the extra few minutes to make sure that it is easily understandable and well-formatted. When creating visualizations, make sure that they have:\n",
    "\n",
    "* A title\n",
    "* Clearly labeled X and Y axes, with appropriate scale for each\n",
    "* A legend, when necessary\n",
    "* No overlapping text that makes it hard to read\n",
    "* An intelligent use of color--multiple lines should have different colors and/or symbols to make them easily differentiable to the eye (**please, no rainbow color scheme**), color should be used to represent something!\n",
    "* An appropriate amount of information--avoid creating graphs that are \"too busy\"--for instance, don't create a line graph with 25 different lines on it\n",
    "\n",
    "<center><img src='http://genywealth.com/wp-content/uploads/2010/03/line-graph.php_.png' height=100% width=100%>\n",
    "There's just too much going on in this graph for it to be readable--don't make the same mistake! (<a href='http://genywealth.com/wp-content/uploads/2010/03/line-graph.php_.png'>Source</a>)</center>\n",
    "\n",
    "### Presentation Must-Haves\n",
    "\n",
    "Your Non-technical presentation should:\n",
    "\n",
    "- Be aimed at a non-technical audience\n",
    " - Avoid technical jargon and explain results in a clear, actionable way for non-technical audiences.\n",
    "- Contain between 5-10 professional quality slides including:\n",
    " - The components of the slide-deck template located [HERE](https://docs.google.com/presentation/d/1e6-8R05wFGk7qsCsi6zOwweMNze1y4phY0_ERdbRVM4/edit?usp=sharing)\n",
    " - A high-level overview of your methodology and findings including the 5 zip codes you recommend investing in (for example)\n",
    " - A brief explanation of what metrics you defined as \"best\" in order complete this project\n",
    "- Take no more than 5 minutes to present\n",
    "\n",
    "### Technical Interview\n",
    "\n",
    "After your non-technical presentation you will have 15 minutes to show your technical work including:\n",
    "\n",
    "- README.md file\n",
    "- Commit History\n",
    "- Technical Notebook\n",
    "- .py files\n",
    "- Doc strings for functions\n",
    "- Explain rationale for technical decision\n",
    "- Explain final model in technical language\n",
    "\n",
    "\n",
    "### Groups:\n",
    "\n",
    "1: Allison & Seoho\n",
    "\n",
    "2: Irving & Steven\n",
    "\n",
    "3: Anil & Brad\n",
    "\n",
    "4: Buddy\n",
    "\n",
    "5: Nicole\n",
    "\n",
    "\n",
    "### Timeline:\n",
    "- Wednesday 11/27 Project Kick-Off\n",
    "- Monday 12/2 - project pitch to coaches\n",
    " - dataset should be finalized and explored\n",
    " - Should have baseline model by EOD\n",
    "- Tuesday 12/3 check in and feedback from instructor \n",
    "- Wednesday 12/4 Project presentations, technical interview, and Science Fair"
   ]
  },
  {
   "cell_type": "code",
   "execution_count": 30,
   "metadata": {},
   "outputs": [],
   "source": [
    "from sklearn.linear_model import LogisticRegression\n",
    "from sklearn.model_selection import train_test_split"
   ]
  },
  {
   "cell_type": "code",
   "execution_count": 31,
   "metadata": {},
   "outputs": [
    {
     "data": {
      "text/html": [
       "<div>\n",
       "<style scoped>\n",
       "    .dataframe tbody tr th:only-of-type {\n",
       "        vertical-align: middle;\n",
       "    }\n",
       "\n",
       "    .dataframe tbody tr th {\n",
       "        vertical-align: top;\n",
       "    }\n",
       "\n",
       "    .dataframe thead th {\n",
       "        text-align: right;\n",
       "    }\n",
       "</style>\n",
       "<table border=\"1\" class=\"dataframe\">\n",
       "  <thead>\n",
       "    <tr style=\"text-align: right;\">\n",
       "      <th></th>\n",
       "      <th>county_id</th>\n",
       "      <th>county_name</th>\n",
       "      <th>year_change</th>\n",
       "      <th>voter_reg_num</th>\n",
       "      <th>party_from</th>\n",
       "      <th>party_to</th>\n",
       "      <th>change_dt</th>\n",
       "    </tr>\n",
       "  </thead>\n",
       "  <tbody>\n",
       "    <tr>\n",
       "      <th>0</th>\n",
       "      <td>1</td>\n",
       "      <td>ALAMANCE</td>\n",
       "      <td>2019</td>\n",
       "      <td>9091101</td>\n",
       "      <td>REP</td>\n",
       "      <td>UNA</td>\n",
       "      <td>2019-05-31</td>\n",
       "    </tr>\n",
       "    <tr>\n",
       "      <th>1</th>\n",
       "      <td>1</td>\n",
       "      <td>ALAMANCE</td>\n",
       "      <td>2019</td>\n",
       "      <td>9151960</td>\n",
       "      <td>REP</td>\n",
       "      <td>UNA</td>\n",
       "      <td>2019-05-31</td>\n",
       "    </tr>\n",
       "    <tr>\n",
       "      <th>2</th>\n",
       "      <td>1</td>\n",
       "      <td>ALAMANCE</td>\n",
       "      <td>2019</td>\n",
       "      <td>9160837</td>\n",
       "      <td>REP</td>\n",
       "      <td>UNA</td>\n",
       "      <td>2019-06-03</td>\n",
       "    </tr>\n",
       "    <tr>\n",
       "      <th>3</th>\n",
       "      <td>1</td>\n",
       "      <td>ALAMANCE</td>\n",
       "      <td>2019</td>\n",
       "      <td>9064668</td>\n",
       "      <td>REP</td>\n",
       "      <td>UNA</td>\n",
       "      <td>2019-06-03</td>\n",
       "    </tr>\n",
       "    <tr>\n",
       "      <th>4</th>\n",
       "      <td>1</td>\n",
       "      <td>ALAMANCE</td>\n",
       "      <td>2019</td>\n",
       "      <td>9159052</td>\n",
       "      <td>DEM</td>\n",
       "      <td>UNA</td>\n",
       "      <td>2019-06-03</td>\n",
       "    </tr>\n",
       "    <tr>\n",
       "      <th>...</th>\n",
       "      <td>...</td>\n",
       "      <td>...</td>\n",
       "      <td>...</td>\n",
       "      <td>...</td>\n",
       "      <td>...</td>\n",
       "      <td>...</td>\n",
       "      <td>...</td>\n",
       "    </tr>\n",
       "    <tr>\n",
       "      <th>121586</th>\n",
       "      <td>100</td>\n",
       "      <td>YANCEY</td>\n",
       "      <td>2019</td>\n",
       "      <td>22113</td>\n",
       "      <td>REP</td>\n",
       "      <td>DEM</td>\n",
       "      <td>2019-02-18</td>\n",
       "    </tr>\n",
       "    <tr>\n",
       "      <th>121587</th>\n",
       "      <td>100</td>\n",
       "      <td>YANCEY</td>\n",
       "      <td>2019</td>\n",
       "      <td>26147</td>\n",
       "      <td>DEM</td>\n",
       "      <td>UNA</td>\n",
       "      <td>2019-02-19</td>\n",
       "    </tr>\n",
       "    <tr>\n",
       "      <th>121588</th>\n",
       "      <td>100</td>\n",
       "      <td>YANCEY</td>\n",
       "      <td>2019</td>\n",
       "      <td>9918</td>\n",
       "      <td>DEM</td>\n",
       "      <td>REP</td>\n",
       "      <td>2019-02-20</td>\n",
       "    </tr>\n",
       "    <tr>\n",
       "      <th>121589</th>\n",
       "      <td>100</td>\n",
       "      <td>YANCEY</td>\n",
       "      <td>2019</td>\n",
       "      <td>17346</td>\n",
       "      <td>DEM</td>\n",
       "      <td>REP</td>\n",
       "      <td>2019-02-25</td>\n",
       "    </tr>\n",
       "    <tr>\n",
       "      <th>121590</th>\n",
       "      <td>100</td>\n",
       "      <td>YANCEY</td>\n",
       "      <td>2019</td>\n",
       "      <td>19764</td>\n",
       "      <td>REP</td>\n",
       "      <td>DEM</td>\n",
       "      <td>2019-02-25</td>\n",
       "    </tr>\n",
       "  </tbody>\n",
       "</table>\n",
       "<p>121591 rows × 7 columns</p>\n",
       "</div>"
      ],
      "text/plain": [
       "        county_id  county_name  year_change  voter_reg_num party_from  \\\n",
       "0               1     ALAMANCE         2019        9091101        REP   \n",
       "1               1     ALAMANCE         2019        9151960        REP   \n",
       "2               1     ALAMANCE         2019        9160837        REP   \n",
       "3               1     ALAMANCE         2019        9064668        REP   \n",
       "4               1     ALAMANCE         2019        9159052        DEM   \n",
       "...           ...          ...          ...            ...        ...   \n",
       "121586        100       YANCEY         2019          22113        REP   \n",
       "121587        100       YANCEY         2019          26147        DEM   \n",
       "121588        100       YANCEY         2019           9918        DEM   \n",
       "121589        100       YANCEY         2019          17346        DEM   \n",
       "121590        100       YANCEY         2019          19764        REP   \n",
       "\n",
       "       party_to  change_dt  \n",
       "0           UNA 2019-05-31  \n",
       "1           UNA 2019-05-31  \n",
       "2           UNA 2019-06-03  \n",
       "3           UNA 2019-06-03  \n",
       "4           UNA 2019-06-03  \n",
       "...         ...        ...  \n",
       "121586      DEM 2019-02-18  \n",
       "121587      UNA 2019-02-19  \n",
       "121588      REP 2019-02-20  \n",
       "121589      REP 2019-02-25  \n",
       "121590      DEM 2019-02-25  \n",
       "\n",
       "[121591 rows x 7 columns]"
      ]
     },
     "execution_count": 31,
     "metadata": {},
     "output_type": "execute_result"
    }
   ],
   "source": [
    "df"
   ]
  },
  {
   "cell_type": "code",
   "execution_count": 50,
   "metadata": {},
   "outputs": [],
   "source": [
    "from sklearn.preprocessing import OneHotEncoder\n",
    "from sklearn import preprocessing"
   ]
  },
  {
   "cell_type": "code",
   "execution_count": 233,
   "metadata": {
    "scrolled": true
   },
   "outputs": [
    {
     "data": {
      "text/plain": [
       "array([3, 3, 3, ..., 2, 2, 0])"
      ]
     },
     "execution_count": 233,
     "metadata": {},
     "output_type": "execute_result"
    }
   ],
   "source": [
    "X, y = df[['county_id', 'party_from']], df.party_to\n",
    "\n",
    "ncencoder = OneHotEncoder()\n",
    "nclabels = preprocessing.LabelEncoder()\n",
    "X = ncencoder.fit_transform(X)\n",
    "# y = ncencoder.fit_transform(y.values.reshape(-1,1))\n",
    "nclabels.fit(y)\n",
    "y = nclabels.transform(y)\n",
    "\n",
    "# print(X.shape,y.shape)\n",
    "y\n"
   ]
  },
  {
   "cell_type": "code",
   "execution_count": 183,
   "metadata": {},
   "outputs": [],
   "source": [
    "X_train, X_test, y_train, y_test = train_test_split(X, y, random_state=5627)"
   ]
  },
  {
   "cell_type": "code",
   "execution_count": 232,
   "metadata": {},
   "outputs": [
    {
     "data": {
      "text/plain": [
       "LogisticRegression(C=1000000000.0, class_weight=None, dual=False,\n",
       "                   fit_intercept=True, intercept_scaling=1, l1_ratio=None,\n",
       "                   max_iter=100, multi_class='multinomial', n_jobs=None,\n",
       "                   penalty='l2', random_state=None, solver='saga', tol=0.0001,\n",
       "                   verbose=0, warm_start=False)"
      ]
     },
     "execution_count": 232,
     "metadata": {},
     "output_type": "execute_result"
    }
   ],
   "source": [
    "clfnc = LogisticRegression(C = 1e9, multi_class='multinomial', solver = 'saga')\n",
    "clfnc.fit(X_train, y_train)\n"
   ]
  },
  {
   "cell_type": "code",
   "execution_count": 171,
   "metadata": {},
   "outputs": [
    {
     "data": {
      "text/plain": [
       "0.6828080794789131"
      ]
     },
     "execution_count": 171,
     "metadata": {},
     "output_type": "execute_result"
    }
   ],
   "source": [
    "clfnc.score(X_test, y_test)"
   ]
  },
  {
   "cell_type": "code",
   "execution_count": 172,
   "metadata": {},
   "outputs": [
    {
     "data": {
      "text/plain": [
       "array([4, 4, 5, ..., 5, 5, 1])"
      ]
     },
     "execution_count": 172,
     "metadata": {},
     "output_type": "execute_result"
    }
   ],
   "source": [
    "clfnc.predict(X_test)"
   ]
  },
  {
   "cell_type": "code",
   "execution_count": 184,
   "metadata": {},
   "outputs": [
    {
     "data": {
      "text/plain": [
       "{0, 1, 2, 3, 4, 5}"
      ]
     },
     "execution_count": 184,
     "metadata": {},
     "output_type": "execute_result"
    }
   ],
   "source": [
    "y_test"
   ]
  },
  {
   "cell_type": "code",
   "execution_count": 174,
   "metadata": {},
   "outputs": [
    {
     "data": {
      "text/plain": [
       "<matplotlib.axes._subplots.AxesSubplot at 0x1a2cb540f0>"
      ]
     },
     "execution_count": 174,
     "metadata": {},
     "output_type": "execute_result"
    },
    {
     "data": {
      "image/png": "[encoded data removed]",
      "text/plain": [
       "<Figure size 432x288 with 1 Axes>"
      ]
     },
     "metadata": {
      "needs_background": "light"
     },
     "output_type": "display_data"
    }
   ],
   "source": [
    "sns.distplot(y_test, kde = False);\n",
    "sns.distplot(clfnc.predict(X_test), kde = False)"
   ]
  },
  {
   "cell_type": "code",
   "execution_count": 175,
   "metadata": {},
   "outputs": [
    {
     "data": {
      "text/plain": [
       "array(['CST', 'DEM', 'GRE', 'LIB', 'REP', 'UNA'], dtype=object)"
      ]
     },
     "execution_count": 175,
     "metadata": {},
     "output_type": "execute_result"
    }
   ],
   "source": [
    "nclabels.classes_"
   ]
  },
  {
   "cell_type": "code",
   "execution_count": 188,
   "metadata": {},
   "outputs": [
    {
     "data": {
      "image/png": "[encoded data removed]",
      "text/plain": [
       "<Figure size 432x288 with 2 Axes>"
      ]
     },
     "metadata": {
      "needs_background": "light"
     },
     "output_type": "display_data"
    }
   ],
   "source": [
    "cm0 = metrics.confusion_matrix(y_test, clfnc.predict(X_test))\n",
    "plt.ylim(-10, 10)\n",
    "sns.heatmap(cm0, cmap=\"Blues\", annot=True,annot_kws={\"size\": 8})\n",
    "b, t = plt.ylim() # discover the values for bottom and top\n",
    "b += 0.5 # Add 0.5 to the bottom\n",
    "t -= 0.5 # Subtract 0.5 from the top\n",
    "plt.ylim(b, t) # update the ylim(bottom, top) values\n",
    "plt.ylabel(\"Actual\")\n",
    "plt.xlabel(\"Predicted\")\n",
    "plt.show() # ta-da!"
   ]
  },
  {
   "cell_type": "code",
   "execution_count": 185,
   "metadata": {},
   "outputs": [
    {
     "data": {
      "text/plain": [
       "array([[    0,    52,     0,     0,    36,   100],\n",
       "       [    0,  4100,     0,     0,  1636,  1565],\n",
       "       [    0,    34,     0,     0,    18,    62],\n",
       "       [    0,   180,     0,     0,   124,   337],\n",
       "       [    0,  1861,     0,     0,  3132,  3286],\n",
       "       [    0,    14,     0,     0,   337, 13524]])"
      ]
     },
     "execution_count": 185,
     "metadata": {},
     "output_type": "execute_result"
    }
   ],
   "source": [
    "cm0"
   ]
  },
  {
   "cell_type": "code",
   "execution_count": 77,
   "metadata": {},
   "outputs": [
    {
     "name": "stdout",
     "output_type": "stream",
     "text": [
      "Collecting imblearn\n",
      "  Downloading https://files.pythonhosted.org/packages/81/a7/4179e6ebfd654bd0eac0b9c06125b8b4c96a9d0a8ff9e9507eb2a26d2d7e/imblearn-0.0-py2.py3-none-any.whl\n",
      "Collecting imbalanced-learn\n",
      "  Using cached https://files.pythonhosted.org/packages/e6/62/08c14224a7e242df2cef7b312d2ef821c3931ec9b015ff93bb52ec8a10a3/imbalanced_learn-0.5.0-py3-none-any.whl\n",
      "Requirement already satisfied: numpy>=1.11 in /anaconda3/lib/python3.7/site-packages (from imbalanced-learn->imblearn) (1.17.3)\n",
      "Requirement already satisfied: scipy>=0.17 in /anaconda3/lib/python3.7/site-packages (from imbalanced-learn->imblearn) (1.3.1)\n",
      "Requirement already satisfied: scikit-learn>=0.21 in /anaconda3/lib/python3.7/site-packages (from imbalanced-learn->imblearn) (0.21.3)\n",
      "Requirement already satisfied: joblib>=0.11 in /anaconda3/lib/python3.7/site-packages (from imbalanced-learn->imblearn) (0.14.0)\n",
      "Installing collected packages: imbalanced-learn, imblearn\n",
      "Successfully installed imbalanced-learn-0.5.0 imblearn-0.0\n"
     ]
    }
   ],
   "source": [
    "!pip install imblearn"
   ]
  },
  {
   "cell_type": "code",
   "execution_count": 78,
   "metadata": {},
   "outputs": [],
   "source": [
    "from imblearn.over_sampling import SMOTE"
   ]
  },
  {
   "cell_type": "code",
   "execution_count": 83,
   "metadata": {},
   "outputs": [
    {
     "data": {
      "text/plain": [
       "array([5, 5, 5, ..., 4, 4, 1])"
      ]
     },
     "execution_count": 83,
     "metadata": {},
     "output_type": "execute_result"
    }
   ],
   "source": [
    "y_train"
   ]
  },
  {
   "cell_type": "code",
   "execution_count": 86,
   "metadata": {},
   "outputs": [
    {
     "data": {
      "text/plain": [
       "{0: 609, 1: 21678, 2: 304, 3: 1870, 4: 25039, 5: 41693}"
      ]
     },
     "execution_count": 86,
     "metadata": {},
     "output_type": "execute_result"
    }
   ],
   "source": [
    "unique, counts = np.unique(y_train, return_counts=True)\n",
    "\n",
    "dict(zip(unique, counts))"
   ]
  },
  {
   "cell_type": "code",
   "execution_count": 88,
   "metadata": {},
   "outputs": [],
   "source": [
    "smt = SMOTE()\n",
    "X_train, y_train = smt.fit_sample(X_train, y_train)"
   ]
  },
  {
   "cell_type": "code",
   "execution_count": 89,
   "metadata": {},
   "outputs": [
    {
     "data": {
      "text/plain": [
       "{0: 41693, 1: 41693, 2: 41693, 3: 41693, 4: 41693, 5: 41693}"
      ]
     },
     "execution_count": 89,
     "metadata": {},
     "output_type": "execute_result"
    }
   ],
   "source": [
    "unique, counts = np.unique(y_train, return_counts=True)\n",
    "\n",
    "dict(zip(unique, counts))"
   ]
  },
  {
   "cell_type": "code",
   "execution_count": 92,
   "metadata": {},
   "outputs": [
    {
     "data": {
      "text/plain": [
       "LogisticRegression(C=1000000000.0, class_weight=None, dual=False,\n",
       "                   fit_intercept=True, intercept_scaling=1, l1_ratio=None,\n",
       "                   max_iter=100, multi_class='multinomial', n_jobs=None,\n",
       "                   penalty='l2', random_state=None, solver='saga', tol=0.0001,\n",
       "                   verbose=0, warm_start=False)"
      ]
     },
     "execution_count": 92,
     "metadata": {},
     "output_type": "execute_result"
    }
   ],
   "source": [
    "clfnc.fit(X_train, y_train)"
   ]
  },
  {
   "cell_type": "code",
   "execution_count": 93,
   "metadata": {},
   "outputs": [
    {
     "data": {
      "text/plain": [
       "0.35580712989390706"
      ]
     },
     "execution_count": 93,
     "metadata": {},
     "output_type": "execute_result"
    }
   ],
   "source": [
    "clfnc.score(X_train, y_train)"
   ]
  },
  {
   "cell_type": "code",
   "execution_count": 94,
   "metadata": {},
   "outputs": [
    {
     "data": {
      "text/plain": [
       "0.5486545167445227"
      ]
     },
     "execution_count": 94,
     "metadata": {},
     "output_type": "execute_result"
    }
   ],
   "source": [
    "clfnc.score(X_test, y_test)"
   ]
  },
  {
   "cell_type": "code",
   "execution_count": 95,
   "metadata": {},
   "outputs": [
    {
     "data": {
      "text/plain": [
       "array([4, 4, 4, ..., 2, 2, 1])"
      ]
     },
     "execution_count": 95,
     "metadata": {},
     "output_type": "execute_result"
    }
   ],
   "source": [
    "clfnc.predict(X_test)"
   ]
  },
  {
   "cell_type": "code",
   "execution_count": 182,
   "metadata": {},
   "outputs": [
    {
     "data": {
      "text/plain": [
       "{0, 1, 2, 3, 4, 5}"
      ]
     },
     "execution_count": 182,
     "metadata": {},
     "output_type": "execute_result"
    }
   ],
   "source": [
    "set(y_test)"
   ]
  },
  {
   "cell_type": "code",
   "execution_count": 98,
   "metadata": {},
   "outputs": [
    {
     "data": {
      "text/plain": [
       "<matplotlib.axes._subplots.AxesSubplot at 0x1257ce518>"
      ]
     },
     "execution_count": 98,
     "metadata": {},
     "output_type": "execute_result"
    },
    {
     "data": {
      "image/png": "[encoded data removed]",
      "text/plain": [
       "<Figure size 432x288 with 1 Axes>"
      ]
     },
     "metadata": {
      "needs_background": "light"
     },
     "output_type": "display_data"
    }
   ],
   "source": [
    "sns.distplot(y_test, kde = False);\n",
    "sns.distplot(clfnc.predict(X_test), kde = False)"
   ]
  },
  {
   "cell_type": "code",
   "execution_count": 112,
   "metadata": {},
   "outputs": [],
   "source": [
    "clfnc_l1 = LogisticRegression(penalty = 'l1', C = 1.0, multi_class='multinomial', solver = 'saga')\n"
   ]
  },
  {
   "cell_type": "code",
   "execution_count": 113,
   "metadata": {},
   "outputs": [
    {
     "data": {
      "text/plain": [
       "LogisticRegression(C=1.0, class_weight=None, dual=False, fit_intercept=True,\n",
       "                   intercept_scaling=1, l1_ratio=None, max_iter=100,\n",
       "                   multi_class='multinomial', n_jobs=None, penalty='l1',\n",
       "                   random_state=None, solver='saga', tol=0.0001, verbose=0,\n",
       "                   warm_start=False)"
      ]
     },
     "execution_count": 113,
     "metadata": {},
     "output_type": "execute_result"
    }
   ],
   "source": [
    "clfnc_l1.fit(X_train, y_train)"
   ]
  },
  {
   "cell_type": "code",
   "execution_count": 114,
   "metadata": {},
   "outputs": [
    {
     "data": {
      "text/plain": [
       "0.3556792107388131"
      ]
     },
     "execution_count": 114,
     "metadata": {},
     "output_type": "execute_result"
    }
   ],
   "source": [
    "clfnc_l1.score(X_train, y_train)"
   ]
  },
  {
   "cell_type": "code",
   "execution_count": 115,
   "metadata": {},
   "outputs": [
    {
     "data": {
      "text/plain": [
       "0.548522929140075"
      ]
     },
     "execution_count": 115,
     "metadata": {},
     "output_type": "execute_result"
    }
   ],
   "source": [
    "clfnc_l1.score(X_test, y_test) "
   ]
  },
  {
   "cell_type": "code",
   "execution_count": 116,
   "metadata": {},
   "outputs": [
    {
     "data": {
      "text/plain": [
       "<matplotlib.axes._subplots.AxesSubplot at 0x1281a3f60>"
      ]
     },
     "execution_count": 116,
     "metadata": {},
     "output_type": "execute_result"
    },
    {
     "data": {
      "image/png": "[encoded data removed]",
      "text/plain": [
       "<Figure size 432x288 with 1 Axes>"
      ]
     },
     "metadata": {
      "needs_background": "light"
     },
     "output_type": "display_data"
    }
   ],
   "source": [
    "sns.distplot(y_test, kde = False);\n",
    "sns.distplot(clfnc_l1.predict(X_test), kde = False)"
   ]
  },
  {
   "cell_type": "code",
   "execution_count": 117,
   "metadata": {},
   "outputs": [
    {
     "data": {
      "text/plain": [
       "LogisticRegression(C=1.0, class_weight=None, dual=False, fit_intercept=True,\n",
       "                   intercept_scaling=1, l1_ratio=None, max_iter=100,\n",
       "                   multi_class='multinomial', n_jobs=None, penalty='l2',\n",
       "                   random_state=None, solver='saga', tol=0.0001, verbose=0,\n",
       "                   warm_start=False)"
      ]
     },
     "execution_count": 117,
     "metadata": {},
     "output_type": "execute_result"
    }
   ],
   "source": [
    "clfnc_l1 = LogisticRegression(penalty = 'l2', C = 1.0, multi_class='multinomial', solver = 'saga')\n",
    "clfnc_l1.fit(X_train, y_train)"
   ]
  },
  {
   "cell_type": "code",
   "execution_count": 121,
   "metadata": {},
   "outputs": [
    {
     "name": "stdout",
     "output_type": "stream",
     "text": [
      "0.35596702883777454\n",
      "0.5487532074478584\n"
     ]
    }
   ],
   "source": [
    "print(clfnc_l1.score(X_train, y_train))\n",
    "print((clfnc_l1.score(X_test, y_test)))\n"
   ]
  },
  {
   "cell_type": "code",
   "execution_count": 122,
   "metadata": {},
   "outputs": [
    {
     "data": {
      "image/png": "[encoded data removed]",
      "text/plain": [
       "<Figure size 432x288 with 1 Axes>"
      ]
     },
     "metadata": {
      "needs_background": "light"
     },
     "output_type": "display_data"
    }
   ],
   "source": [
    "sns.distplot(y_test, kde = False)\n",
    "sns.distplot(clfnc_l1.predict(X_test), kde = False);"
   ]
  },
  {
   "cell_type": "code",
   "execution_count": 142,
   "metadata": {},
   "outputs": [],
   "source": [
    "from sklearn import metrics\n",
    "cm = metrics.confusion_matrix(y_test, clfnc_l1.predict(X_test))"
   ]
  },
  {
   "cell_type": "code",
   "execution_count": 187,
   "metadata": {},
   "outputs": [
    {
     "data": {
      "image/png": "[encoded data removed]",
      "text/plain": [
       "<Figure size 432x288 with 2 Axes>"
      ]
     },
     "metadata": {
      "needs_background": "light"
     },
     "output_type": "display_data"
    }
   ],
   "source": [
    "\n",
    "cm = metrics.confusion_matrix(y_test, clfnc_l1.predict(X_test))\n",
    "plt.ylim(-10, 10)\n",
    "sns.heatmap(cm, cmap=\"Blues\", annot=True,annot_kws={\"size\": 8})\n",
    "b, t = plt.ylim() # discover the values for bottom and top\n",
    "b += 0.5 # Add 0.5 to the bottom\n",
    "t -= 0.5 # Subtract 0.5 from the top\n",
    "plt.ylim(b, t) # update the ylim(bottom, top) values\n",
    "plt.ylabel(\"Actual\")\n",
    "plt.xlabel(\"Predicted\")\n",
    "plt.show() # ta-da!\n",
    "\n",
    "\n",
    "\n"
   ]
  },
  {
   "cell_type": "code",
   "execution_count": 177,
   "metadata": {},
   "outputs": [
    {
     "data": {
      "text/plain": [
       "array([[    0,    52,     0,     0,    36,   100],\n",
       "       [    0,  4100,     0,     0,  1636,  1565],\n",
       "       [    0,    34,     0,     0,    18,    62],\n",
       "       [    0,   180,     0,     0,   124,   337],\n",
       "       [    0,  1861,     0,     0,  3132,  3286],\n",
       "       [    0,    14,     0,     0,   337, 13524]])"
      ]
     },
     "execution_count": 177,
     "metadata": {},
     "output_type": "execute_result"
    }
   ],
   "source": [
    "cm2 = np.zeros((6, 6))\n",
    "for row in range(cm.shape[0]):\n",
    "    cm2[row][:] = (cm[row][:] / sum(cm[row][:]))\n",
    "cm0"
   ]
  },
  {
   "cell_type": "code",
   "execution_count": 186,
   "metadata": {},
   "outputs": [
    {
     "data": {
      "image/png": "[encoded data removed]",
      "text/plain": [
       "<Figure size 432x288 with 2 Axes>"
      ]
     },
     "metadata": {
      "needs_background": "light"
     },
     "output_type": "display_data"
    }
   ],
   "source": [
    "plt.ylim(-10, 10)\n",
    "sns.heatmap(cm2, cmap=\"Blues\", annot=True,annot_kws={\"size\": 8})\n",
    "b, t = plt.ylim() # discover the values for bottom and top\n",
    "b += 0.5 # Add 0.5 to the bottom\n",
    "t -= 0.5 # Subtract 0.5 from the top\n",
    "plt.ylim(b, t) # update the ylim(bottom, top) values\n",
    "plt.ylabel(\"Actual\")\n",
    "plt.xlabel(\"Predicted\")\n",
    "plt.show() # ta-da!\n"
   ]
  },
  {
   "cell_type": "code",
   "execution_count": 163,
   "metadata": {},
   "outputs": [],
   "source": [
    "# Do we throw 3 away?  (LIB)\n",
    "# 0? (CST)\n",
    "# 2? (GRE)"
   ]
  },
  {
   "cell_type": "markdown",
   "metadata": {},
   "source": [
    "# We need to cross-validate as well, so let's go back and do that and we can re-run SMOTE later."
   ]
  },
  {
   "cell_type": "code",
   "execution_count": 192,
   "metadata": {},
   "outputs": [
    {
     "name": "stdout",
     "output_type": "stream",
     "text": [
      "TRAIN: [18239 18240 18241 ... 91190 91191 91192] TEST: [    0     1     2 ... 18236 18237 18238]\n",
      "TRAIN: [    0     1     2 ... 91190 91191 91192] TEST: [18239 18240 18241 ... 36475 36476 36477]\n",
      "TRAIN: [    0     1     2 ... 91190 91191 91192] TEST: [36478 36479 36480 ... 54714 54715 54716]\n",
      "TRAIN: [    0     1     2 ... 91190 91191 91192] TEST: [54717 54718 54719 ... 72952 72953 72954]\n",
      "TRAIN: [    0     1     2 ... 72952 72953 72954] TEST: [72955 72956 72957 ... 91190 91191 91192]\n"
     ]
    }
   ],
   "source": [
    "import numpy as np\n",
    "from sklearn.model_selection import KFold\n",
    "\n",
    "X_train, X_test, y_train, y_test = train_test_split(X, y, random_state=5627)\n",
    "\n",
    "kf = KFold(n_splits=5, random_state=5627, shuffle=False)\n",
    "\n",
    "for train_index, test_index in kf.split(X_train):\n",
    "    print(\"TRAIN:\", train_index, \"TEST:\", test_index)\n",
    "    X_train_k1, X_train_k2 = X[train_index], X[test_index]\n",
    "    y_train_k1, y_train_k2 = y[train_index], y[test_index]\n"
   ]
  },
  {
   "cell_type": "code",
   "execution_count": null,
   "metadata": {},
   "outputs": [],
   "source": [
    "# >>> cv_results = cross_validate(lasso, X, y, cv=3)\n",
    "# >>> sorted(cv_results.keys())                         \n",
    "# ['fit_time', 'score_time', 'test_score']\n",
    "# >>> cv_results['test_score']    \n",
    "# array([0.33150734, 0.08022311, 0.03531764])"
   ]
  },
  {
   "cell_type": "code",
   "execution_count": 196,
   "metadata": {},
   "outputs": [
    {
     "name": "stderr",
     "output_type": "stream",
     "text": [
      "//anaconda3/lib/python3.7/site-packages/sklearn/linear_model/sag.py:337: ConvergenceWarning: The max_iter was reached which means the coef_ did not converge\n",
      "  \"the coef_ did not converge\", ConvergenceWarning)\n"
     ]
    }
   ],
   "source": [
    "from sklearn.model_selection import cross_validate\n",
    "cv_results = cross_validate(clfnc, X_train, y_train, cv=5)"
   ]
  },
  {
   "cell_type": "code",
   "execution_count": 198,
   "metadata": {},
   "outputs": [
    {
     "data": {
      "text/plain": [
       "{'fit_time': array([6.06305194, 6.00987315, 5.67063498, 5.67138982, 5.69664526]),\n",
       " 'score_time': array([0.00432205, 0.00264072, 0.00264883, 0.00268507, 0.00280499]),\n",
       " 'test_score': array([0.67604167, 0.68086623, 0.68486842, 0.67787038, 0.68127228])}"
      ]
     },
     "execution_count": 198,
     "metadata": {},
     "output_type": "execute_result"
    }
   ],
   "source": [
    "cv_results"
   ]
  },
  {
   "cell_type": "code",
   "execution_count": 199,
   "metadata": {},
   "outputs": [
    {
     "name": "stderr",
     "output_type": "stream",
     "text": [
      "//anaconda3/lib/python3.7/site-packages/sklearn/linear_model/sag.py:337: ConvergenceWarning: The max_iter was reached which means the coef_ did not converge\n",
      "  \"the coef_ did not converge\", ConvergenceWarning)\n"
     ]
    },
    {
     "ename": "TypeError",
     "evalue": "'dict' object is not callable",
     "output_type": "error",
     "traceback": [
      "\u001b[0;31m---------------------------------------------------------------------------\u001b[0m",
      "\u001b[0;31mTypeError\u001b[0m                                 Traceback (most recent call last)",
      "\u001b[0;32m<ipython-input-199-003275c969c4>\u001b[0m in \u001b[0;36m<module>\u001b[0;34m\u001b[0m\n\u001b[1;32m      2\u001b[0m \u001b[0mX_train_SMT\u001b[0m\u001b[0;34m,\u001b[0m \u001b[0my_train_SMT\u001b[0m \u001b[0;34m=\u001b[0m \u001b[0msmt\u001b[0m\u001b[0;34m.\u001b[0m\u001b[0mfit_sample\u001b[0m\u001b[0;34m(\u001b[0m\u001b[0mX_train\u001b[0m\u001b[0;34m,\u001b[0m \u001b[0my_train\u001b[0m\u001b[0;34m)\u001b[0m\u001b[0;34m\u001b[0m\u001b[0;34m\u001b[0m\u001b[0m\n\u001b[1;32m      3\u001b[0m \u001b[0mcv_results_SMOTE\u001b[0m \u001b[0;34m=\u001b[0m \u001b[0mcross_validate\u001b[0m\u001b[0;34m(\u001b[0m\u001b[0mclfnc\u001b[0m\u001b[0;34m,\u001b[0m \u001b[0mX_train_SMT\u001b[0m\u001b[0;34m,\u001b[0m \u001b[0my_train_SMT\u001b[0m\u001b[0;34m,\u001b[0m \u001b[0mcv\u001b[0m\u001b[0;34m=\u001b[0m\u001b[0;36m5\u001b[0m\u001b[0;34m)\u001b[0m\u001b[0;34m\u001b[0m\u001b[0;34m\u001b[0m\u001b[0m\n\u001b[0;32m----> 4\u001b[0;31m \u001b[0mcv_results\u001b[0m\u001b[0;34m(\u001b[0m\u001b[0;34m[\u001b[0m\u001b[0;34m'test_score'\u001b[0m\u001b[0;34m]\u001b[0m\u001b[0;34m)\u001b[0m\u001b[0;34m\u001b[0m\u001b[0;34m\u001b[0m\u001b[0m\n\u001b[0m",
      "\u001b[0;31mTypeError\u001b[0m: 'dict' object is not callable"
     ]
    }
   ],
   "source": [
    "smt = SMOTE()\n",
    "X_train_SMT, y_train_SMT = smt.fit_sample(X_train, y_train)\n",
    "cv_results_SMOTE = cross_validate(clfnc, X_train_SMT, y_train_SMT, cv=5)\n"
   ]
  },
  {
   "cell_type": "code",
   "execution_count": 201,
   "metadata": {},
   "outputs": [
    {
     "data": {
      "text/plain": [
       "{'fit_time': array([22.91459513, 27.7780118 , 25.50020194, 28.632128  , 26.85434604]),\n",
       " 'score_time': array([0.01580167, 0.00860906, 0.01035595, 0.0086298 , 0.00939584]),\n",
       " 'test_score': array([0.35108126, 0.35583803, 0.35208059, 0.35312225, 0.35100344])}"
      ]
     },
     "execution_count": 201,
     "metadata": {},
     "output_type": "execute_result"
    }
   ],
   "source": [
    "cv_results_SMOTE"
   ]
  },
  {
   "cell_type": "markdown",
   "metadata": {},
   "source": [
    "# 1. Can we drop GREEN party and reSMOTE data?  Is that fair, or does that skew data?\n",
    "\n",
    "- short answer is yes.\n",
    "\n",
    "# 2. It looks like imbalanced data is not really a big deal when it comes to logistic regression.  While we don't get any correctly predicted data for some of the classes, do we really need to over-/under-sample to correct the imbalance?\n",
    "\n",
    "- SMOTE doesnt automatically make things better.  Refine are \n",
    "\n",
    "# 3. Not all counties have party_from/party_to GREEN party members.  We could go back a year and get more data to supplement the 2019 stuff?\n",
    "\n",
    "- Sure, but now dummy encode it and make it a feature.  M ake the comparison between 2018 and 2019.  \n",
    "- Binning by month is cool too, but we'd be comparing each of the months to a particular month.  This is a time series stuff AND WE SHOULD STAY AWAY.\n"
   ]
  },
  {
   "cell_type": "code",
   "execution_count": 202,
   "metadata": {},
   "outputs": [],
   "source": [
    "# classification report? function in sklearn\n",
    "\n",
    "# yellow brick - marisa slacked it to us\n",
    "\n",
    "# roc curve"
   ]
  },
  {
   "cell_type": "code",
   "execution_count": 203,
   "metadata": {},
   "outputs": [
    {
     "data": {
      "text/html": [
       "<div>\n",
       "<style scoped>\n",
       "    .dataframe tbody tr th:only-of-type {\n",
       "        vertical-align: middle;\n",
       "    }\n",
       "\n",
       "    .dataframe tbody tr th {\n",
       "        vertical-align: top;\n",
       "    }\n",
       "\n",
       "    .dataframe thead th {\n",
       "        text-align: right;\n",
       "    }\n",
       "</style>\n",
       "<table border=\"1\" class=\"dataframe\">\n",
       "  <thead>\n",
       "    <tr style=\"text-align: right;\">\n",
       "      <th></th>\n",
       "      <th>county_id</th>\n",
       "      <th>county_name</th>\n",
       "      <th>year_change</th>\n",
       "      <th>voter_reg_num</th>\n",
       "      <th>party_from</th>\n",
       "      <th>party_to</th>\n",
       "      <th>change_dt</th>\n",
       "    </tr>\n",
       "  </thead>\n",
       "  <tbody>\n",
       "    <tr>\n",
       "      <th>0</th>\n",
       "      <td>1</td>\n",
       "      <td>ALAMANCE</td>\n",
       "      <td>2019</td>\n",
       "      <td>9091101</td>\n",
       "      <td>REP</td>\n",
       "      <td>UNA</td>\n",
       "      <td>2019-05-31</td>\n",
       "    </tr>\n",
       "    <tr>\n",
       "      <th>1</th>\n",
       "      <td>1</td>\n",
       "      <td>ALAMANCE</td>\n",
       "      <td>2019</td>\n",
       "      <td>9151960</td>\n",
       "      <td>REP</td>\n",
       "      <td>UNA</td>\n",
       "      <td>2019-05-31</td>\n",
       "    </tr>\n",
       "    <tr>\n",
       "      <th>2</th>\n",
       "      <td>1</td>\n",
       "      <td>ALAMANCE</td>\n",
       "      <td>2019</td>\n",
       "      <td>9160837</td>\n",
       "      <td>REP</td>\n",
       "      <td>UNA</td>\n",
       "      <td>2019-06-03</td>\n",
       "    </tr>\n",
       "    <tr>\n",
       "      <th>3</th>\n",
       "      <td>1</td>\n",
       "      <td>ALAMANCE</td>\n",
       "      <td>2019</td>\n",
       "      <td>9064668</td>\n",
       "      <td>REP</td>\n",
       "      <td>UNA</td>\n",
       "      <td>2019-06-03</td>\n",
       "    </tr>\n",
       "    <tr>\n",
       "      <th>4</th>\n",
       "      <td>1</td>\n",
       "      <td>ALAMANCE</td>\n",
       "      <td>2019</td>\n",
       "      <td>9159052</td>\n",
       "      <td>DEM</td>\n",
       "      <td>UNA</td>\n",
       "      <td>2019-06-03</td>\n",
       "    </tr>\n",
       "  </tbody>\n",
       "</table>\n",
       "</div>"
      ],
      "text/plain": [
       "   county_id  county_name  year_change  voter_reg_num party_from party_to  \\\n",
       "0          1     ALAMANCE         2019        9091101        REP      UNA   \n",
       "1          1     ALAMANCE         2019        9151960        REP      UNA   \n",
       "2          1     ALAMANCE         2019        9160837        REP      UNA   \n",
       "3          1     ALAMANCE         2019        9064668        REP      UNA   \n",
       "4          1     ALAMANCE         2019        9159052        DEM      UNA   \n",
       "\n",
       "   change_dt  \n",
       "0 2019-05-31  \n",
       "1 2019-05-31  \n",
       "2 2019-06-03  \n",
       "3 2019-06-03  \n",
       "4 2019-06-03  "
      ]
     },
     "execution_count": 203,
     "metadata": {},
     "output_type": "execute_result"
    }
   ],
   "source": [
    "df.head()"
   ]
  },
  {
   "cell_type": "code",
   "execution_count": 208,
   "metadata": {},
   "outputs": [
    {
     "data": {
      "text/html": [
       "<div>\n",
       "<style scoped>\n",
       "    .dataframe tbody tr th:only-of-type {\n",
       "        vertical-align: middle;\n",
       "    }\n",
       "\n",
       "    .dataframe tbody tr th {\n",
       "        vertical-align: top;\n",
       "    }\n",
       "\n",
       "    .dataframe thead th {\n",
       "        text-align: right;\n",
       "    }\n",
       "</style>\n",
       "<table border=\"1\" class=\"dataframe\">\n",
       "  <thead>\n",
       "    <tr style=\"text-align: right;\">\n",
       "      <th></th>\n",
       "      <th>county_id</th>\n",
       "      <th>county_name</th>\n",
       "      <th>year_change</th>\n",
       "      <th>voter_reg_num</th>\n",
       "      <th>party_from</th>\n",
       "      <th>party_to</th>\n",
       "      <th>change_dt</th>\n",
       "    </tr>\n",
       "  </thead>\n",
       "  <tbody>\n",
       "    <tr>\n",
       "      <th>226</th>\n",
       "      <td>1</td>\n",
       "      <td>ALAMANCE</td>\n",
       "      <td>2019</td>\n",
       "      <td>9092780</td>\n",
       "      <td>REP</td>\n",
       "      <td>GRE</td>\n",
       "      <td>2019-05-21</td>\n",
       "    </tr>\n",
       "    <tr>\n",
       "      <th>980</th>\n",
       "      <td>1</td>\n",
       "      <td>ALAMANCE</td>\n",
       "      <td>2019</td>\n",
       "      <td>9093948</td>\n",
       "      <td>GRE</td>\n",
       "      <td>UNA</td>\n",
       "      <td>2019-11-21</td>\n",
       "    </tr>\n",
       "    <tr>\n",
       "      <th>1302</th>\n",
       "      <td>1</td>\n",
       "      <td>ALAMANCE</td>\n",
       "      <td>2019</td>\n",
       "      <td>9093948</td>\n",
       "      <td>DEM</td>\n",
       "      <td>GRE</td>\n",
       "      <td>2019-08-30</td>\n",
       "    </tr>\n",
       "    <tr>\n",
       "      <th>2242</th>\n",
       "      <td>3</td>\n",
       "      <td>ALLEGHANY</td>\n",
       "      <td>2019</td>\n",
       "      <td>16354</td>\n",
       "      <td>GRE</td>\n",
       "      <td>DEM</td>\n",
       "      <td>2019-09-26</td>\n",
       "    </tr>\n",
       "    <tr>\n",
       "      <th>2487</th>\n",
       "      <td>4</td>\n",
       "      <td>ANSON</td>\n",
       "      <td>2019</td>\n",
       "      <td>37942</td>\n",
       "      <td>UNA</td>\n",
       "      <td>GRE</td>\n",
       "      <td>2019-09-16</td>\n",
       "    </tr>\n",
       "    <tr>\n",
       "      <th>...</th>\n",
       "      <td>...</td>\n",
       "      <td>...</td>\n",
       "      <td>...</td>\n",
       "      <td>...</td>\n",
       "      <td>...</td>\n",
       "      <td>...</td>\n",
       "      <td>...</td>\n",
       "    </tr>\n",
       "    <tr>\n",
       "      <th>118365</th>\n",
       "      <td>96</td>\n",
       "      <td>WAYNE</td>\n",
       "      <td>2019</td>\n",
       "      <td>30049336</td>\n",
       "      <td>REP</td>\n",
       "      <td>GRE</td>\n",
       "      <td>2019-01-02</td>\n",
       "    </tr>\n",
       "    <tr>\n",
       "      <th>118791</th>\n",
       "      <td>96</td>\n",
       "      <td>WAYNE</td>\n",
       "      <td>2019</td>\n",
       "      <td>30091163</td>\n",
       "      <td>DEM</td>\n",
       "      <td>GRE</td>\n",
       "      <td>2019-07-24</td>\n",
       "    </tr>\n",
       "    <tr>\n",
       "      <th>118972</th>\n",
       "      <td>96</td>\n",
       "      <td>WAYNE</td>\n",
       "      <td>2019</td>\n",
       "      <td>30070107</td>\n",
       "      <td>UNA</td>\n",
       "      <td>GRE</td>\n",
       "      <td>2019-11-15</td>\n",
       "    </tr>\n",
       "    <tr>\n",
       "      <th>119190</th>\n",
       "      <td>96</td>\n",
       "      <td>WAYNE</td>\n",
       "      <td>2019</td>\n",
       "      <td>30052245</td>\n",
       "      <td>REP</td>\n",
       "      <td>GRE</td>\n",
       "      <td>2019-10-15</td>\n",
       "    </tr>\n",
       "    <tr>\n",
       "      <th>121469</th>\n",
       "      <td>100</td>\n",
       "      <td>YANCEY</td>\n",
       "      <td>2019</td>\n",
       "      <td>24259</td>\n",
       "      <td>GRE</td>\n",
       "      <td>DEM</td>\n",
       "      <td>2019-11-18</td>\n",
       "    </tr>\n",
       "  </tbody>\n",
       "</table>\n",
       "<p>560 rows × 7 columns</p>\n",
       "</div>"
      ],
      "text/plain": [
       "        county_id  county_name  year_change  voter_reg_num party_from  \\\n",
       "226             1     ALAMANCE         2019        9092780        REP   \n",
       "980             1     ALAMANCE         2019        9093948        GRE   \n",
       "1302            1     ALAMANCE         2019        9093948        DEM   \n",
       "2242            3    ALLEGHANY         2019          16354        GRE   \n",
       "2487            4        ANSON         2019          37942        UNA   \n",
       "...           ...          ...          ...            ...        ...   \n",
       "118365         96        WAYNE         2019       30049336        REP   \n",
       "118791         96        WAYNE         2019       30091163        DEM   \n",
       "118972         96        WAYNE         2019       30070107        UNA   \n",
       "119190         96        WAYNE         2019       30052245        REP   \n",
       "121469        100       YANCEY         2019          24259        GRE   \n",
       "\n",
       "       party_to  change_dt  \n",
       "226         GRE 2019-05-21  \n",
       "980         UNA 2019-11-21  \n",
       "1302        GRE 2019-08-30  \n",
       "2242        DEM 2019-09-26  \n",
       "2487        GRE 2019-09-16  \n",
       "...         ...        ...  \n",
       "118365      GRE 2019-01-02  \n",
       "118791      GRE 2019-07-24  \n",
       "118972      GRE 2019-11-15  \n",
       "119190      GRE 2019-10-15  \n",
       "121469      DEM 2019-11-18  \n",
       "\n",
       "[560 rows x 7 columns]"
      ]
     },
     "execution_count": 208,
     "metadata": {},
     "output_type": "execute_result"
    }
   ],
   "source": [
    "GRE_rows = df.loc[(df.party_from == 'GRE') | (df.party_to == 'GRE')]\n",
    "GRE_rows"
   ]
  },
  {
   "cell_type": "code",
   "execution_count": 212,
   "metadata": {},
   "outputs": [],
   "source": [
    "df = df.drop(GRE_rows.index)"
   ]
  },
  {
   "cell_type": "code",
   "execution_count": 214,
   "metadata": {},
   "outputs": [
    {
     "data": {
      "text/html": [
       "<div>\n",
       "<style scoped>\n",
       "    .dataframe tbody tr th:only-of-type {\n",
       "        vertical-align: middle;\n",
       "    }\n",
       "\n",
       "    .dataframe tbody tr th {\n",
       "        vertical-align: top;\n",
       "    }\n",
       "\n",
       "    .dataframe thead th {\n",
       "        text-align: right;\n",
       "    }\n",
       "</style>\n",
       "<table border=\"1\" class=\"dataframe\">\n",
       "  <thead>\n",
       "    <tr style=\"text-align: right;\">\n",
       "      <th></th>\n",
       "      <th>county_id</th>\n",
       "      <th>county_name</th>\n",
       "      <th>year_change</th>\n",
       "      <th>voter_reg_num</th>\n",
       "      <th>party_from</th>\n",
       "      <th>party_to</th>\n",
       "      <th>change_dt</th>\n",
       "    </tr>\n",
       "  </thead>\n",
       "  <tbody>\n",
       "    <tr>\n",
       "      <th>77</th>\n",
       "      <td>1</td>\n",
       "      <td>ALAMANCE</td>\n",
       "      <td>2019</td>\n",
       "      <td>9131837</td>\n",
       "      <td>UNA</td>\n",
       "      <td>CST</td>\n",
       "      <td>2019-10-03</td>\n",
       "    </tr>\n",
       "    <tr>\n",
       "      <th>637</th>\n",
       "      <td>1</td>\n",
       "      <td>ALAMANCE</td>\n",
       "      <td>2019</td>\n",
       "      <td>9176130</td>\n",
       "      <td>UNA</td>\n",
       "      <td>CST</td>\n",
       "      <td>2019-03-01</td>\n",
       "    </tr>\n",
       "    <tr>\n",
       "      <th>837</th>\n",
       "      <td>1</td>\n",
       "      <td>ALAMANCE</td>\n",
       "      <td>2019</td>\n",
       "      <td>9149888</td>\n",
       "      <td>UNA</td>\n",
       "      <td>CST</td>\n",
       "      <td>2019-11-15</td>\n",
       "    </tr>\n",
       "    <tr>\n",
       "      <th>845</th>\n",
       "      <td>1</td>\n",
       "      <td>ALAMANCE</td>\n",
       "      <td>2019</td>\n",
       "      <td>9111034</td>\n",
       "      <td>UNA</td>\n",
       "      <td>CST</td>\n",
       "      <td>2019-10-15</td>\n",
       "    </tr>\n",
       "    <tr>\n",
       "      <th>893</th>\n",
       "      <td>1</td>\n",
       "      <td>ALAMANCE</td>\n",
       "      <td>2019</td>\n",
       "      <td>9168778</td>\n",
       "      <td>UNA</td>\n",
       "      <td>CST</td>\n",
       "      <td>2019-01-02</td>\n",
       "    </tr>\n",
       "    <tr>\n",
       "      <th>...</th>\n",
       "      <td>...</td>\n",
       "      <td>...</td>\n",
       "      <td>...</td>\n",
       "      <td>...</td>\n",
       "      <td>...</td>\n",
       "      <td>...</td>\n",
       "      <td>...</td>\n",
       "    </tr>\n",
       "    <tr>\n",
       "      <th>121106</th>\n",
       "      <td>98</td>\n",
       "      <td>WILSON</td>\n",
       "      <td>2019</td>\n",
       "      <td>757505336</td>\n",
       "      <td>UNA</td>\n",
       "      <td>CST</td>\n",
       "      <td>2019-04-03</td>\n",
       "    </tr>\n",
       "    <tr>\n",
       "      <th>121206</th>\n",
       "      <td>99</td>\n",
       "      <td>YADKIN</td>\n",
       "      <td>2019</td>\n",
       "      <td>67450</td>\n",
       "      <td>UNA</td>\n",
       "      <td>CST</td>\n",
       "      <td>2019-10-21</td>\n",
       "    </tr>\n",
       "    <tr>\n",
       "      <th>121211</th>\n",
       "      <td>99</td>\n",
       "      <td>YADKIN</td>\n",
       "      <td>2019</td>\n",
       "      <td>24511</td>\n",
       "      <td>UNA</td>\n",
       "      <td>CST</td>\n",
       "      <td>2019-10-28</td>\n",
       "    </tr>\n",
       "    <tr>\n",
       "      <th>121220</th>\n",
       "      <td>99</td>\n",
       "      <td>YADKIN</td>\n",
       "      <td>2019</td>\n",
       "      <td>62424</td>\n",
       "      <td>UNA</td>\n",
       "      <td>CST</td>\n",
       "      <td>2019-03-11</td>\n",
       "    </tr>\n",
       "    <tr>\n",
       "      <th>121490</th>\n",
       "      <td>100</td>\n",
       "      <td>YANCEY</td>\n",
       "      <td>2019</td>\n",
       "      <td>25887</td>\n",
       "      <td>UNA</td>\n",
       "      <td>CST</td>\n",
       "      <td>2019-03-11</td>\n",
       "    </tr>\n",
       "  </tbody>\n",
       "</table>\n",
       "<p>796 rows × 7 columns</p>\n",
       "</div>"
      ],
      "text/plain": [
       "        county_id  county_name  year_change  voter_reg_num party_from  \\\n",
       "77              1     ALAMANCE         2019        9131837        UNA   \n",
       "637             1     ALAMANCE         2019        9176130        UNA   \n",
       "837             1     ALAMANCE         2019        9149888        UNA   \n",
       "845             1     ALAMANCE         2019        9111034        UNA   \n",
       "893             1     ALAMANCE         2019        9168778        UNA   \n",
       "...           ...          ...          ...            ...        ...   \n",
       "121106         98       WILSON         2019      757505336        UNA   \n",
       "121206         99       YADKIN         2019          67450        UNA   \n",
       "121211         99       YADKIN         2019          24511        UNA   \n",
       "121220         99       YADKIN         2019          62424        UNA   \n",
       "121490        100       YANCEY         2019          25887        UNA   \n",
       "\n",
       "       party_to  change_dt  \n",
       "77          CST 2019-10-03  \n",
       "637         CST 2019-03-01  \n",
       "837         CST 2019-11-15  \n",
       "845         CST 2019-10-15  \n",
       "893         CST 2019-01-02  \n",
       "...         ...        ...  \n",
       "121106      CST 2019-04-03  \n",
       "121206      CST 2019-10-21  \n",
       "121211      CST 2019-10-28  \n",
       "121220      CST 2019-03-11  \n",
       "121490      CST 2019-03-11  \n",
       "\n",
       "[796 rows x 7 columns]"
      ]
     },
     "execution_count": 214,
     "metadata": {},
     "output_type": "execute_result"
    }
   ],
   "source": [
    "CST_rows = df.loc[(df.party_from == 'CST') | (df.party_to == 'CST')]\n",
    "CST_rows"
   ]
  },
  {
   "cell_type": "code",
   "execution_count": 215,
   "metadata": {},
   "outputs": [],
   "source": [
    "df = df.drop(CST_rows.index)"
   ]
  },
  {
   "cell_type": "code",
   "execution_count": 220,
   "metadata": {},
   "outputs": [
    {
     "data": {
      "text/plain": [
       "array(['UNA', 'REP', 'DEM', 'LIB'], dtype=object)"
      ]
     },
     "execution_count": 220,
     "metadata": {},
     "output_type": "execute_result"
    }
   ],
   "source": [
    "df.party_to.unique()"
   ]
  },
  {
   "cell_type": "code",
   "execution_count": 263,
   "metadata": {},
   "outputs": [
    {
     "data": {
      "text/plain": [
       "array([2, 2, 2, ..., 1, 1, 0])"
      ]
     },
     "execution_count": 263,
     "metadata": {},
     "output_type": "execute_result"
    }
   ],
   "source": [
    "X, y = df[['county_id', 'party_from']], df.party_to\n",
    "\n",
    "ncencoder = OneHotEncoder()\n",
    "nclabels = preprocessing.LabelEncoder()\n",
    "X = ncencoder.fit_transform(X)\n",
    "# y = ncencoder.fit_transform(y.values.reshape(-1,1))\n",
    "nclabels.fit(y)\n",
    "y = nclabels.transform(y)\n",
    "\n",
    "# print(X.shape,y.shape)\n",
    "y"
   ]
  },
  {
   "cell_type": "code",
   "execution_count": 264,
   "metadata": {},
   "outputs": [],
   "source": [
    "X_train, X_test, y_train, y_test = train_test_split(X, y, random_state=5627)\n",
    "\n",
    "# kf = KFold(n_splits=5, random_state=5627, shuffle=False)\n",
    "\n",
    "# for train_index, test_index in kf.split(X_train):\n",
    "#     print(\"TRAIN:\", train_index, \"TEST:\", test_index)\n",
    "#     X_train_k1, X_train_k2 = X[train_index], X[test_index]\n",
    "#     y_train_k1, y_train_k2 = y[train_index], y[test_index]"
   ]
  },
  {
   "cell_type": "code",
   "execution_count": 265,
   "metadata": {},
   "outputs": [
    {
     "name": "stderr",
     "output_type": "stream",
     "text": [
      "//anaconda3/lib/python3.7/site-packages/sklearn/linear_model/sag.py:337: ConvergenceWarning: The max_iter was reached which means the coef_ did not converge\n",
      "  \"the coef_ did not converge\", ConvergenceWarning)\n"
     ]
    }
   ],
   "source": [
    "from sklearn.model_selection import cross_validate\n",
    "cv_results = cross_validate(clfnc, X_train, y_train, cv=5)"
   ]
  },
  {
   "cell_type": "code",
   "execution_count": 236,
   "metadata": {},
   "outputs": [
    {
     "data": {
      "text/plain": [
       "{'fit_time': array([4.99789405, 6.24745512, 6.19339895, 4.82190013, 4.6590209 ]),\n",
       " 'score_time': array([0.00306511, 0.00285697, 0.00257802, 0.002635  , 0.00245619]),\n",
       " 'test_score': array([0.68634952, 0.69233755, 0.69072965, 0.68888273, 0.68751733])}"
      ]
     },
     "execution_count": 236,
     "metadata": {},
     "output_type": "execute_result"
    }
   ],
   "source": [
    "cv_results"
   ]
  },
  {
   "cell_type": "code",
   "execution_count": 266,
   "metadata": {},
   "outputs": [
    {
     "ename": "ValueError",
     "evalue": "X has 103 features per sample; expecting 104",
     "output_type": "error",
     "traceback": [
      "\u001b[0;31m---------------------------------------------------------------------------\u001b[0m",
      "\u001b[0;31mValueError\u001b[0m                                Traceback (most recent call last)",
      "\u001b[0;32m<ipython-input-266-d3365a11f1ef>\u001b[0m in \u001b[0;36m<module>\u001b[0;34m\u001b[0m\n\u001b[0;32m----> 1\u001b[0;31m \u001b[0mcm\u001b[0m \u001b[0;34m=\u001b[0m \u001b[0mmetrics\u001b[0m\u001b[0;34m.\u001b[0m\u001b[0mconfusion_matrix\u001b[0m\u001b[0;34m(\u001b[0m\u001b[0my_test\u001b[0m\u001b[0;34m,\u001b[0m \u001b[0mclfnc\u001b[0m\u001b[0;34m.\u001b[0m\u001b[0mpredict\u001b[0m\u001b[0;34m(\u001b[0m\u001b[0mX_test\u001b[0m\u001b[0;34m)\u001b[0m\u001b[0;34m)\u001b[0m\u001b[0;34m\u001b[0m\u001b[0;34m\u001b[0m\u001b[0m\n\u001b[0m\u001b[1;32m      2\u001b[0m \u001b[0mplt\u001b[0m\u001b[0;34m.\u001b[0m\u001b[0mylim\u001b[0m\u001b[0;34m(\u001b[0m\u001b[0;34m-\u001b[0m\u001b[0;36m10\u001b[0m\u001b[0;34m,\u001b[0m \u001b[0;36m10\u001b[0m\u001b[0;34m)\u001b[0m\u001b[0;34m\u001b[0m\u001b[0;34m\u001b[0m\u001b[0m\n\u001b[1;32m      3\u001b[0m \u001b[0msns\u001b[0m\u001b[0;34m.\u001b[0m\u001b[0mheatmap\u001b[0m\u001b[0;34m(\u001b[0m\u001b[0mcm\u001b[0m\u001b[0;34m,\u001b[0m \u001b[0mcmap\u001b[0m\u001b[0;34m=\u001b[0m\u001b[0;34m\"Blues\"\u001b[0m\u001b[0;34m,\u001b[0m \u001b[0mannot\u001b[0m\u001b[0;34m=\u001b[0m\u001b[0;32mTrue\u001b[0m\u001b[0;34m,\u001b[0m\u001b[0mannot_kws\u001b[0m\u001b[0;34m=\u001b[0m\u001b[0;34m{\u001b[0m\u001b[0;34m\"size\"\u001b[0m\u001b[0;34m:\u001b[0m \u001b[0;36m8\u001b[0m\u001b[0;34m}\u001b[0m\u001b[0;34m)\u001b[0m\u001b[0;34m\u001b[0m\u001b[0;34m\u001b[0m\u001b[0m\n\u001b[1;32m      4\u001b[0m \u001b[0mb\u001b[0m\u001b[0;34m,\u001b[0m \u001b[0mt\u001b[0m \u001b[0;34m=\u001b[0m \u001b[0mplt\u001b[0m\u001b[0;34m.\u001b[0m\u001b[0mylim\u001b[0m\u001b[0;34m(\u001b[0m\u001b[0;34m)\u001b[0m \u001b[0;31m# discover the values for bottom and top\u001b[0m\u001b[0;34m\u001b[0m\u001b[0;34m\u001b[0m\u001b[0m\n\u001b[1;32m      5\u001b[0m \u001b[0mb\u001b[0m \u001b[0;34m+=\u001b[0m \u001b[0;36m0.5\u001b[0m \u001b[0;31m# Add 0.5 to the bottom\u001b[0m\u001b[0;34m\u001b[0m\u001b[0;34m\u001b[0m\u001b[0m\n",
      "\u001b[0;32m//anaconda3/lib/python3.7/site-packages/sklearn/linear_model/base.py\u001b[0m in \u001b[0;36mpredict\u001b[0;34m(self, X)\u001b[0m\n\u001b[1;32m    287\u001b[0m             \u001b[0mPredicted\u001b[0m \u001b[0;32mclass\u001b[0m \u001b[0mlabel\u001b[0m \u001b[0mper\u001b[0m \u001b[0msample\u001b[0m\u001b[0;34m.\u001b[0m\u001b[0;34m\u001b[0m\u001b[0;34m\u001b[0m\u001b[0m\n\u001b[1;32m    288\u001b[0m         \"\"\"\n\u001b[0;32m--> 289\u001b[0;31m         \u001b[0mscores\u001b[0m \u001b[0;34m=\u001b[0m \u001b[0mself\u001b[0m\u001b[0;34m.\u001b[0m\u001b[0mdecision_function\u001b[0m\u001b[0;34m(\u001b[0m\u001b[0mX\u001b[0m\u001b[0;34m)\u001b[0m\u001b[0;34m\u001b[0m\u001b[0;34m\u001b[0m\u001b[0m\n\u001b[0m\u001b[1;32m    290\u001b[0m         \u001b[0;32mif\u001b[0m \u001b[0mlen\u001b[0m\u001b[0;34m(\u001b[0m\u001b[0mscores\u001b[0m\u001b[0;34m.\u001b[0m\u001b[0mshape\u001b[0m\u001b[0;34m)\u001b[0m \u001b[0;34m==\u001b[0m \u001b[0;36m1\u001b[0m\u001b[0;34m:\u001b[0m\u001b[0;34m\u001b[0m\u001b[0;34m\u001b[0m\u001b[0m\n\u001b[1;32m    291\u001b[0m             \u001b[0mindices\u001b[0m \u001b[0;34m=\u001b[0m \u001b[0;34m(\u001b[0m\u001b[0mscores\u001b[0m \u001b[0;34m>\u001b[0m \u001b[0;36m0\u001b[0m\u001b[0;34m)\u001b[0m\u001b[0;34m.\u001b[0m\u001b[0mastype\u001b[0m\u001b[0;34m(\u001b[0m\u001b[0mnp\u001b[0m\u001b[0;34m.\u001b[0m\u001b[0mint\u001b[0m\u001b[0;34m)\u001b[0m\u001b[0;34m\u001b[0m\u001b[0;34m\u001b[0m\u001b[0m\n",
      "\u001b[0;32m//anaconda3/lib/python3.7/site-packages/sklearn/linear_model/base.py\u001b[0m in \u001b[0;36mdecision_function\u001b[0;34m(self, X)\u001b[0m\n\u001b[1;32m    268\u001b[0m         \u001b[0;32mif\u001b[0m \u001b[0mX\u001b[0m\u001b[0;34m.\u001b[0m\u001b[0mshape\u001b[0m\u001b[0;34m[\u001b[0m\u001b[0;36m1\u001b[0m\u001b[0;34m]\u001b[0m \u001b[0;34m!=\u001b[0m \u001b[0mn_features\u001b[0m\u001b[0;34m:\u001b[0m\u001b[0;34m\u001b[0m\u001b[0;34m\u001b[0m\u001b[0m\n\u001b[1;32m    269\u001b[0m             raise ValueError(\"X has %d features per sample; expecting %d\"\n\u001b[0;32m--> 270\u001b[0;31m                              % (X.shape[1], n_features))\n\u001b[0m\u001b[1;32m    271\u001b[0m \u001b[0;34m\u001b[0m\u001b[0m\n\u001b[1;32m    272\u001b[0m         scores = safe_sparse_dot(X, self.coef_.T,\n",
      "\u001b[0;31mValueError\u001b[0m: X has 103 features per sample; expecting 104"
     ]
    }
   ],
   "source": [
    "cm = metrics.confusion_matrix(y_test, clfnc.predict(X_test))\n",
    "plt.ylim(-10, 10)\n",
    "sns.heatmap(cm, cmap=\"Blues\", annot=True,annot_kws={\"size\": 8})\n",
    "b, t = plt.ylim() # discover the values for bottom and top\n",
    "b += 0.5 # Add 0.5 to the bottom\n",
    "t -= 0.5 # Subtract 0.5 from the top\n",
    "plt.ylim(b, t) # update the ylim(bottom, top) values\n",
    "plt.ylabel(\"Actual\")\n",
    "plt.xlabel(\"Predicted\")\n",
    "plt.show() # ta-da!\n"
   ]
  },
  {
   "cell_type": "code",
   "execution_count": 240,
   "metadata": {},
   "outputs": [
    {
     "data": {
      "text/plain": [
       "0.6845869789414152"
      ]
     },
     "execution_count": 240,
     "metadata": {},
     "output_type": "execute_result"
    }
   ],
   "source": [
    "clfnc.score(X_test, y_test)"
   ]
  },
  {
   "cell_type": "code",
   "execution_count": 241,
   "metadata": {},
   "outputs": [],
   "source": [
    "smt = SMOTE()\n",
    "X_train, y_train = smt.fit_sample(X_train, y_train)"
   ]
  },
  {
   "cell_type": "code",
   "execution_count": 242,
   "metadata": {},
   "outputs": [
    {
     "data": {
      "text/plain": [
       "LogisticRegression(C=1000000000.0, class_weight=None, dual=False,\n",
       "                   fit_intercept=True, intercept_scaling=1, l1_ratio=None,\n",
       "                   max_iter=100, multi_class='multinomial', n_jobs=None,\n",
       "                   penalty='l2', random_state=None, solver='saga', tol=0.0001,\n",
       "                   verbose=0, warm_start=False)"
      ]
     },
     "execution_count": 242,
     "metadata": {},
     "output_type": "execute_result"
    }
   ],
   "source": [
    "clfnc = LogisticRegression(C = 1e9, multi_class='multinomial', solver = 'saga')\n",
    "clfnc.fit(X_train, y_train)"
   ]
  },
  {
   "cell_type": "code",
   "execution_count": 243,
   "metadata": {},
   "outputs": [
    {
     "name": "stderr",
     "output_type": "stream",
     "text": [
      "//anaconda3/lib/python3.7/site-packages/sklearn/linear_model/sag.py:337: ConvergenceWarning: The max_iter was reached which means the coef_ did not converge\n",
      "  \"the coef_ did not converge\", ConvergenceWarning)\n"
     ]
    }
   ],
   "source": [
    "cv_results = cross_validate(clfnc, X_train, y_train, cv=5)"
   ]
  },
  {
   "cell_type": "code",
   "execution_count": 244,
   "metadata": {},
   "outputs": [
    {
     "data": {
      "image/png": "[encoded data removed]",
      "text/plain": [
       "<Figure size 432x288 with 2 Axes>"
      ]
     },
     "metadata": {
      "needs_background": "light"
     },
     "output_type": "display_data"
    }
   ],
   "source": [
    "cm = metrics.confusion_matrix(y_test, clfnc.predict(X_test))\n",
    "plt.ylim(-10, 10)\n",
    "sns.heatmap(cm, cmap=\"Blues\", annot=True,annot_kws={\"size\": 8})\n",
    "b, t = plt.ylim() # discover the values for bottom and top\n",
    "b += 0.5 # Add 0.5 to the bottom\n",
    "t -= 0.5 # Subtract 0.5 from the top\n",
    "plt.ylim(b, t) # update the ylim(bottom, top) values\n",
    "plt.ylabel(\"Actual\")\n",
    "plt.xlabel(\"Predicted\")\n",
    "plt.show() # ta-da!\n"
   ]
  },
  {
   "cell_type": "code",
   "execution_count": 245,
   "metadata": {},
   "outputs": [],
   "source": [
    "#We're not converging, lets try a gridsearch"
   ]
  },
  {
   "cell_type": "code",
   "execution_count": 251,
   "metadata": {},
   "outputs": [
    {
     "name": "stderr",
     "output_type": "stream",
     "text": [
      "//anaconda3/lib/python3.7/site-packages/sklearn/linear_model/sag.py:337: ConvergenceWarning: The max_iter was reached which means the coef_ did not converge\n",
      "  \"the coef_ did not converge\", ConvergenceWarning)\n"
     ]
    },
    {
     "data": {
      "text/plain": [
       "GridSearchCV(cv=5, error_score='raise-deprecating',\n",
       "             estimator=LogisticRegression(C=1.0, class_weight=None, dual=False,\n",
       "                                          fit_intercept=True,\n",
       "                                          intercept_scaling=1, l1_ratio=None,\n",
       "                                          max_iter=100,\n",
       "                                          multi_class='multinomial',\n",
       "                                          n_jobs=None, penalty='l2',\n",
       "                                          random_state=None, solver='saga',\n",
       "                                          tol=0.0001, verbose=0,\n",
       "                                          warm_start=False),\n",
       "             iid='warn', n_jobs=None,\n",
       "             param_grid=[{'C': [0.001, 0.01, 0.1, 1, 10, 100],\n",
       "                          'penalty': ['l1', 'l2']}],\n",
       "             pre_dispatch='2*n_jobs', refit=True, return_train_score=False,\n",
       "             scoring=None, verbose=0)"
      ]
     },
     "execution_count": 251,
     "metadata": {},
     "output_type": "execute_result"
    }
   ],
   "source": [
    "from sklearn.model_selection import GridSearchCV\n",
    "\n",
    "tuned_parameters = [{'C': [0.001, 0.01, 0.1, 1, 10, 100], 'penalty': ['l1', 'l2']}]\n",
    "\n",
    "clfnc_tuned = GridSearchCV(LogisticRegression(multi_class='multinomial', solver='saga'), tuned_parameters, cv=5)\n",
    "\n",
    "clfnc_tuned.fit(X_train, y_train)"
   ]
  },
  {
   "cell_type": "code",
   "execution_count": 252,
   "metadata": {},
   "outputs": [
    {
     "data": {
      "text/plain": [
       "{'fit_time': array([17.5196507 , 12.05787015, 12.09347415, 13.1211338 , 11.5916791 ]),\n",
       " 'score_time': array([0.00506115, 0.00354481, 0.00463891, 0.01155615, 0.00363374]),\n",
       " 'test_score': array([0.48892557, 0.4932473 , 0.49060624, 0.49105642, 0.48907563])}"
      ]
     },
     "execution_count": 252,
     "metadata": {},
     "output_type": "execute_result"
    }
   ],
   "source": [
    "cv_results"
   ]
  },
  {
   "cell_type": "code",
   "execution_count": 253,
   "metadata": {},
   "outputs": [
    {
     "data": {
      "image/png": "[encoded data removed]",
      "text/plain": [
       "<Figure size 432x288 with 2 Axes>"
      ]
     },
     "metadata": {
      "needs_background": "light"
     },
     "output_type": "display_data"
    }
   ],
   "source": [
    "cm = metrics.confusion_matrix(y_test, clfnc_tuned.predict(X_test))\n",
    "plt.ylim(-10, 10)\n",
    "sns.heatmap(cm, cmap=\"Blues\", annot=True,annot_kws={\"size\": 8})\n",
    "b, t = plt.ylim() # discover the values for bottom and top\n",
    "b += 0.5 # Add 0.5 to the bottom\n",
    "t -= 0.5 # Subtract 0.5 from the top\n",
    "plt.ylim(b, t) # update the ylim(bottom, top) values\n",
    "plt.ylabel(\"Actual\")\n",
    "plt.xlabel(\"Predicted\")\n",
    "plt.show() # ta-da!"
   ]
  },
  {
   "cell_type": "code",
   "execution_count": 254,
   "metadata": {},
   "outputs": [
    {
     "data": {
      "image/png": "[encoded data removed]",
      "text/plain": [
       "<Figure size 432x288 with 2 Axes>"
      ]
     },
     "metadata": {
      "needs_background": "light"
     },
     "output_type": "display_data"
    }
   ],
   "source": [
    "cm = metrics.confusion_matrix(y_test, clfnc.predict(X_test))\n",
    "plt.ylim(-10, 10)\n",
    "sns.heatmap(cm, cmap=\"Blues\", annot=True,annot_kws={\"size\": 8})\n",
    "b, t = plt.ylim() # discover the values for bottom and top\n",
    "b += 0.5 # Add 0.5 to the bottom\n",
    "t -= 0.5 # Subtract 0.5 from the top\n",
    "plt.ylim(b, t) # update the ylim(bottom, top) values\n",
    "plt.ylabel(\"Actual\")\n",
    "plt.xlabel(\"Predicted\")\n",
    "plt.show() # ta-da!"
   ]
  },
  {
   "cell_type": "code",
   "execution_count": 255,
   "metadata": {},
   "outputs": [
    {
     "data": {
      "text/html": [
       "<div>\n",
       "<style scoped>\n",
       "    .dataframe tbody tr th:only-of-type {\n",
       "        vertical-align: middle;\n",
       "    }\n",
       "\n",
       "    .dataframe tbody tr th {\n",
       "        vertical-align: top;\n",
       "    }\n",
       "\n",
       "    .dataframe thead th {\n",
       "        text-align: right;\n",
       "    }\n",
       "</style>\n",
       "<table border=\"1\" class=\"dataframe\">\n",
       "  <thead>\n",
       "    <tr style=\"text-align: right;\">\n",
       "      <th></th>\n",
       "      <th>county_id</th>\n",
       "      <th>county_name</th>\n",
       "      <th>year_change</th>\n",
       "      <th>voter_reg_num</th>\n",
       "      <th>party_from</th>\n",
       "      <th>party_to</th>\n",
       "      <th>change_dt</th>\n",
       "    </tr>\n",
       "  </thead>\n",
       "  <tbody>\n",
       "    <tr>\n",
       "      <th>26</th>\n",
       "      <td>1</td>\n",
       "      <td>ALAMANCE</td>\n",
       "      <td>2019</td>\n",
       "      <td>9099811</td>\n",
       "      <td>LIB</td>\n",
       "      <td>UNA</td>\n",
       "      <td>2019-01-11</td>\n",
       "    </tr>\n",
       "    <tr>\n",
       "      <th>45</th>\n",
       "      <td>1</td>\n",
       "      <td>ALAMANCE</td>\n",
       "      <td>2019</td>\n",
       "      <td>9145874</td>\n",
       "      <td>LIB</td>\n",
       "      <td>DEM</td>\n",
       "      <td>2019-11-18</td>\n",
       "    </tr>\n",
       "    <tr>\n",
       "      <th>50</th>\n",
       "      <td>1</td>\n",
       "      <td>ALAMANCE</td>\n",
       "      <td>2019</td>\n",
       "      <td>9099478</td>\n",
       "      <td>DEM</td>\n",
       "      <td>LIB</td>\n",
       "      <td>2019-11-18</td>\n",
       "    </tr>\n",
       "    <tr>\n",
       "      <th>87</th>\n",
       "      <td>1</td>\n",
       "      <td>ALAMANCE</td>\n",
       "      <td>2019</td>\n",
       "      <td>9168825</td>\n",
       "      <td>LIB</td>\n",
       "      <td>DEM</td>\n",
       "      <td>2019-07-22</td>\n",
       "    </tr>\n",
       "    <tr>\n",
       "      <th>106</th>\n",
       "      <td>1</td>\n",
       "      <td>ALAMANCE</td>\n",
       "      <td>2019</td>\n",
       "      <td>9168447</td>\n",
       "      <td>DEM</td>\n",
       "      <td>LIB</td>\n",
       "      <td>2019-01-24</td>\n",
       "    </tr>\n",
       "    <tr>\n",
       "      <th>...</th>\n",
       "      <td>...</td>\n",
       "      <td>...</td>\n",
       "      <td>...</td>\n",
       "      <td>...</td>\n",
       "      <td>...</td>\n",
       "      <td>...</td>\n",
       "      <td>...</td>\n",
       "    </tr>\n",
       "    <tr>\n",
       "      <th>121484</th>\n",
       "      <td>100</td>\n",
       "      <td>YANCEY</td>\n",
       "      <td>2019</td>\n",
       "      <td>10770</td>\n",
       "      <td>DEM</td>\n",
       "      <td>LIB</td>\n",
       "      <td>2019-03-06</td>\n",
       "    </tr>\n",
       "    <tr>\n",
       "      <th>121491</th>\n",
       "      <td>100</td>\n",
       "      <td>YANCEY</td>\n",
       "      <td>2019</td>\n",
       "      <td>20988</td>\n",
       "      <td>UNA</td>\n",
       "      <td>LIB</td>\n",
       "      <td>2019-03-18</td>\n",
       "    </tr>\n",
       "    <tr>\n",
       "      <th>121542</th>\n",
       "      <td>100</td>\n",
       "      <td>YANCEY</td>\n",
       "      <td>2019</td>\n",
       "      <td>21477</td>\n",
       "      <td>LIB</td>\n",
       "      <td>REP</td>\n",
       "      <td>2019-09-27</td>\n",
       "    </tr>\n",
       "    <tr>\n",
       "      <th>121582</th>\n",
       "      <td>100</td>\n",
       "      <td>YANCEY</td>\n",
       "      <td>2019</td>\n",
       "      <td>25030</td>\n",
       "      <td>LIB</td>\n",
       "      <td>REP</td>\n",
       "      <td>2019-02-12</td>\n",
       "    </tr>\n",
       "    <tr>\n",
       "      <th>121584</th>\n",
       "      <td>100</td>\n",
       "      <td>YANCEY</td>\n",
       "      <td>2019</td>\n",
       "      <td>28096</td>\n",
       "      <td>LIB</td>\n",
       "      <td>DEM</td>\n",
       "      <td>2019-02-13</td>\n",
       "    </tr>\n",
       "  </tbody>\n",
       "</table>\n",
       "<p>4703 rows × 7 columns</p>\n",
       "</div>"
      ],
      "text/plain": [
       "        county_id  county_name  year_change  voter_reg_num party_from  \\\n",
       "26              1     ALAMANCE         2019        9099811        LIB   \n",
       "45              1     ALAMANCE         2019        9145874        LIB   \n",
       "50              1     ALAMANCE         2019        9099478        DEM   \n",
       "87              1     ALAMANCE         2019        9168825        LIB   \n",
       "106             1     ALAMANCE         2019        9168447        DEM   \n",
       "...           ...          ...          ...            ...        ...   \n",
       "121484        100       YANCEY         2019          10770        DEM   \n",
       "121491        100       YANCEY         2019          20988        UNA   \n",
       "121542        100       YANCEY         2019          21477        LIB   \n",
       "121582        100       YANCEY         2019          25030        LIB   \n",
       "121584        100       YANCEY         2019          28096        LIB   \n",
       "\n",
       "       party_to  change_dt  \n",
       "26          UNA 2019-01-11  \n",
       "45          DEM 2019-11-18  \n",
       "50          LIB 2019-11-18  \n",
       "87          DEM 2019-07-22  \n",
       "106         LIB 2019-01-24  \n",
       "...         ...        ...  \n",
       "121484      LIB 2019-03-06  \n",
       "121491      LIB 2019-03-18  \n",
       "121542      REP 2019-09-27  \n",
       "121582      REP 2019-02-12  \n",
       "121584      DEM 2019-02-13  \n",
       "\n",
       "[4703 rows x 7 columns]"
      ]
     },
     "execution_count": 255,
     "metadata": {},
     "output_type": "execute_result"
    }
   ],
   "source": [
    "LIB_rows = df.loc[(df.party_from == 'LIB') | (df.party_to == 'LIB')]\n",
    "LIB_rows"
   ]
  },
  {
   "cell_type": "code",
   "execution_count": 270,
   "metadata": {},
   "outputs": [
    {
     "data": {
      "text/plain": [
       "array(['UNA', 'REP', 'DEM'], dtype=object)"
      ]
     },
     "execution_count": 270,
     "metadata": {},
     "output_type": "execute_result"
    }
   ],
   "source": [
    "# df = df.drop(LIB_rows.index)\n",
    "df.party_to.unique()"
   ]
  },
  {
   "cell_type": "code",
   "execution_count": 271,
   "metadata": {},
   "outputs": [],
   "source": [
    "X, y = df[['county_id', 'party_from']], df.party_to\n",
    "\n",
    "ncencoder = OneHotEncoder()\n",
    "nclabels = preprocessing.LabelEncoder()\n",
    "X = ncencoder.fit_transform(X)\n",
    "# y = ncencoder.fit_transform(y.values.reshape(-1,1))\n",
    "nclabels.fit(y)\n",
    "y = nclabels.transform(y)\n",
    "\n",
    "# print(X.shape,y.shape)\n",
    "y\n",
    "\n",
    "X_train, X_test, y_train, y_test = train_test_split(X, y, random_state=5627)\n"
   ]
  },
  {
   "cell_type": "code",
   "execution_count": 272,
   "metadata": {},
   "outputs": [
    {
     "name": "stderr",
     "output_type": "stream",
     "text": [
      "//anaconda3/lib/python3.7/site-packages/sklearn/linear_model/sag.py:337: ConvergenceWarning: The max_iter was reached which means the coef_ did not converge\n",
      "  \"the coef_ did not converge\", ConvergenceWarning)\n"
     ]
    },
    {
     "data": {
      "text/plain": [
       "GridSearchCV(cv=5, error_score='raise-deprecating',\n",
       "             estimator=LogisticRegression(C=1.0, class_weight=None, dual=False,\n",
       "                                          fit_intercept=True,\n",
       "                                          intercept_scaling=1, l1_ratio=None,\n",
       "                                          max_iter=100,\n",
       "                                          multi_class='multinomial',\n",
       "                                          n_jobs=None, penalty='l2',\n",
       "                                          random_state=None, solver='saga',\n",
       "                                          tol=0.0001, verbose=0,\n",
       "                                          warm_start=False),\n",
       "             iid='warn', n_jobs=None,\n",
       "             param_grid=[{'C': [0.001, 0.01, 0.1, 1, 10, 100],\n",
       "                          'penalty': ['l1', 'l2']}],\n",
       "             pre_dispatch='2*n_jobs', refit=True, return_train_score=False,\n",
       "             scoring=None, verbose=0)"
      ]
     },
     "execution_count": 272,
     "metadata": {},
     "output_type": "execute_result"
    }
   ],
   "source": [
    "tuned_parameters = [{'C': [0.001, 0.01, 0.1, 1, 10, 100], 'penalty': ['l1', 'l2']}]\n",
    "\n",
    "clfnc_tuned = GridSearchCV(LogisticRegression(multi_class='multinomial', solver='saga'), tuned_parameters, cv=5)\n",
    "\n",
    "clfnc_tuned.fit(X_train, y_train)"
   ]
  },
  {
   "cell_type": "code",
   "execution_count": 273,
   "metadata": {},
   "outputs": [
    {
     "data": {
      "text/plain": [
       "{'fit_time': array([6.15127707, 4.05184317, 2.05136824, 2.07999301, 3.74953198]),\n",
       " 'score_time': array([0.01504731, 0.00207996, 0.00246096, 0.00225306, 0.00210595]),\n",
       " 'test_score': array([0.70365241, 0.70271206, 0.70357761, 0.70321427, 0.70684979])}"
      ]
     },
     "execution_count": 273,
     "metadata": {},
     "output_type": "execute_result"
    }
   ],
   "source": [
    "cv_results"
   ]
  },
  {
   "cell_type": "code",
   "execution_count": 274,
   "metadata": {},
   "outputs": [
    {
     "data": {
      "image/png": "[encoded data removed]",
      "text/plain": [
       "<Figure size 432x288 with 2 Axes>"
      ]
     },
     "metadata": {
      "needs_background": "light"
     },
     "output_type": "display_data"
    }
   ],
   "source": [
    "cm = metrics.confusion_matrix(y_test, clfnc_tuned.predict(X_test))\n",
    "plt.ylim(-10, 10)\n",
    "sns.heatmap(cm, cmap=\"Blues\", annot=True,annot_kws={\"size\": 8})\n",
    "b, t = plt.ylim() # discover the values for bottom and top\n",
    "b += 0.5 # Add 0.5 to the bottom\n",
    "t -= 0.5 # Subtract 0.5 from the top\n",
    "plt.ylim(b, t) # update the ylim(bottom, top) values\n",
    "plt.ylabel(\"Actual\")\n",
    "plt.xlabel(\"Predicted\")\n",
    "plt.show() # ta-da!"
   ]
  },
  {
   "cell_type": "code",
   "execution_count": 276,
   "metadata": {},
   "outputs": [],
   "source": [
    "cm_nor = np.zeros((3, 3))\n",
    "for row in range(cm.shape[0]):\n",
    "    cm_nor[row][:] = (cm[row][:] / sum(cm[row][:]))"
   ]
  },
  {
   "cell_type": "code",
   "execution_count": 277,
   "metadata": {},
   "outputs": [
    {
     "data": {
      "image/png": "[encoded data removed]",
      "text/plain": [
       "<Figure size 432x288 with 2 Axes>"
      ]
     },
     "metadata": {
      "needs_background": "light"
     },
     "output_type": "display_data"
    }
   ],
   "source": [
    "cm = metrics.confusion_matrix(y_test, clfnc_tuned.predict(X_test))\n",
    "cm_nor = np.zeros((3, 3))\n",
    "for row in range(cm.shape[0]):\n",
    "    cm_nor[row][:] = (cm[row][:] / sum(cm[row][:]))\n",
    "plt.ylim(-10, 10)\n",
    "sns.heatmap(cm_nor, cmap=\"Blues\", annot=True,annot_kws={\"size\": 8})\n",
    "b, t = plt.ylim() # discover the values for bottom and top\n",
    "b += 0.5 # Add 0.5 to the bottom\n",
    "t -= 0.5 # Subtract 0.5 from the top\n",
    "plt.ylim(b, t) # update the ylim(bottom, top) values\n",
    "plt.ylabel(\"Actual\")\n",
    "plt.xlabel(\"Predicted\")\n",
    "plt.show() # ta-da!"
   ]
  },
  {
   "cell_type": "code",
   "execution_count": null,
   "metadata": {},
   "outputs": [],
   "source": [
    "# For tomorrow,\n",
    "\n",
    "- SMOTE data?\n",
    "- What was yellowbrick?\n",
    "- classification report in sklearn?\n",
    "- ROC curve?\n"
   ]
  },
  {
   "cell_type": "code",
   "execution_count": 278,
   "metadata": {},
   "outputs": [],
   "source": [
    "smt = SMOTE()\n",
    "X_train, y_train = smt.fit_sample(X_train, y_train)"
   ]
  },
  {
   "cell_type": "code",
   "execution_count": 279,
   "metadata": {},
   "outputs": [
    {
     "name": "stderr",
     "output_type": "stream",
     "text": [
      "//anaconda3/lib/python3.7/site-packages/sklearn/linear_model/sag.py:337: ConvergenceWarning: The max_iter was reached which means the coef_ did not converge\n",
      "  \"the coef_ did not converge\", ConvergenceWarning)\n"
     ]
    },
    {
     "data": {
      "text/plain": [
       "GridSearchCV(cv=5, error_score='raise-deprecating',\n",
       "             estimator=LogisticRegression(C=1.0, class_weight=None, dual=False,\n",
       "                                          fit_intercept=True,\n",
       "                                          intercept_scaling=1, l1_ratio=None,\n",
       "                                          max_iter=100,\n",
       "                                          multi_class='multinomial',\n",
       "                                          n_jobs=None, penalty='l2',\n",
       "                                          random_state=None, solver='saga',\n",
       "                                          tol=0.0001, verbose=0,\n",
       "                                          warm_start=False),\n",
       "             iid='warn', n_jobs=None,\n",
       "             param_grid=[{'C': [0.001, 0.01, 0.1, 1, 10, 100],\n",
       "                          'penalty': ['l1', 'l2']}],\n",
       "             pre_dispatch='2*n_jobs', refit=True, return_train_score=False,\n",
       "             scoring=None, verbose=0)"
      ]
     },
     "execution_count": 279,
     "metadata": {},
     "output_type": "execute_result"
    }
   ],
   "source": [
    "tuned_parameters = [{'C': [0.001, 0.01, 0.1, 1, 10, 100], 'penalty': ['l1', 'l2']}]\n",
    "\n",
    "clfnc_tuned = GridSearchCV(LogisticRegression(multi_class='multinomial', solver='saga'), tuned_parameters, cv=5)\n",
    "\n",
    "clfnc_tuned.fit(X_train, y_train)"
   ]
  },
  {
   "cell_type": "code",
   "execution_count": null,
   "metadata": {},
   "outputs": [],
   "source": [
    "# check return_train_score as well to see if we are overfitting"
   ]
  },
  {
   "cell_type": "code",
   "execution_count": 280,
   "metadata": {},
   "outputs": [
    {
     "data": {
      "text/plain": [
       "{'fit_time': array([6.15127707, 4.05184317, 2.05136824, 2.07999301, 3.74953198]),\n",
       " 'score_time': array([0.01504731, 0.00207996, 0.00246096, 0.00225306, 0.00210595]),\n",
       " 'test_score': array([0.70365241, 0.70271206, 0.70357761, 0.70321427, 0.70684979])}"
      ]
     },
     "execution_count": 280,
     "metadata": {},
     "output_type": "execute_result"
    }
   ],
   "source": [
    "cv_results"
   ]
  },
  {
   "cell_type": "code",
   "execution_count": 281,
   "metadata": {},
   "outputs": [
    {
     "data": {
      "image/png": "[encoded data removed]",
      "text/plain": [
       "<Figure size 432x288 with 2 Axes>"
      ]
     },
     "metadata": {
      "needs_background": "light"
     },
     "output_type": "display_data"
    }
   ],
   "source": [
    "cm = metrics.confusion_matrix(y_test, clfnc_tuned.predict(X_test))\n",
    "cm_nor = np.zeros((3, 3))\n",
    "for row in range(cm.shape[0]):\n",
    "    cm_nor[row][:] = (cm[row][:] / sum(cm[row][:]))\n",
    "plt.ylim(-10, 10)\n",
    "sns.heatmap(cm_nor, cmap=\"Blues\", annot=True,annot_kws={\"size\": 8})\n",
    "b, t = plt.ylim() # discover the values for bottom and top\n",
    "b += 0.5 # Add 0.5 to the bottom\n",
    "t -= 0.5 # Subtract 0.5 from the top\n",
    "plt.ylim(b, t) # update the ylim(bottom, top) values\n",
    "plt.ylabel(\"Actual\")\n",
    "plt.xlabel(\"Predicted\")\n",
    "plt.show() # ta-da!"
   ]
  },
  {
   "cell_type": "code",
   "execution_count": 283,
   "metadata": {},
   "outputs": [
    {
     "data": {
      "text/plain": [
       "0.6930028044178236"
      ]
     },
     "execution_count": 283,
     "metadata": {},
     "output_type": "execute_result"
    }
   ],
   "source": [
    "clfnc_tuned.score(X_test, y_test)"
   ]
  },
  {
   "cell_type": "code",
   "execution_count": null,
   "metadata": {},
   "outputs": [],
   "source": []
  }
 ],
 "metadata": {
  "kernelspec": {
   "display_name": "Python 3",
   "language": "python",
   "name": "python3"
  },
  "language_info": {
   "codemirror_mode": {
    "name": "ipython",
    "version": 3
   },
   "file_extension": ".py",
   "mimetype": "text/x-python",
   "name": "python",
   "nbconvert_exporter": "python",
   "pygments_lexer": "ipython3",
   "version": "3.7.3"
  }
 },
 "nbformat": 4,
 "nbformat_minor": 2
}
