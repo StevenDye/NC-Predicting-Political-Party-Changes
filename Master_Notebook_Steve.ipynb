{
 "cells": [
  {
   "cell_type": "markdown",
   "metadata": {},
   "source": [
    "# Predicting Voter Registration Party Affiliation\n",
    "\n",
    "Irv Campbell and Steven Dye\n",
    "\n",
    "Module 4: Logistic Regression\n",
    "\n",
    "## Problem Statement\n",
    "\n",
    "### Can we predict what political party voters in North Carolina change to based on their current political party affiliation and by what county they live in?\n",
    "\n",
    "We attempted to predict what political party voters in North Carolina changed to based on their previous political party and by what county they live in.\n",
    "\n",
    "## Data\n",
    "\n",
    "The data was obtained from the North Carolina State Board of Elections website: https://www.ncsbe.gov/index.html on 12/2/2019. The data consists of six possible political party affiliations: Unaffiliated, Republican, Democratic, Libertarian, Constitutional, and Green. The data consisted of six features: County Name, County ID, Voter ID, Date Changed, Original Party, and New Party. We chose to only look at County ID and Original Party in order to predict the target New Party. The other features were ignored either due to repeating data or lack of a reasonable relation to the target. In total there are 121,591 entries in the data file."
   ]
  },
  {
   "cell_type": "code",
   "execution_count": 1,
   "metadata": {},
   "outputs": [
    {
     "data": {
      "text/html": [
       "<div>\n",
       "<style scoped>\n",
       "    .dataframe tbody tr th:only-of-type {\n",
       "        vertical-align: middle;\n",
       "    }\n",
       "\n",
       "    .dataframe tbody tr th {\n",
       "        vertical-align: top;\n",
       "    }\n",
       "\n",
       "    .dataframe thead th {\n",
       "        text-align: right;\n",
       "    }\n",
       "</style>\n",
       "<table border=\"1\" class=\"dataframe\">\n",
       "  <thead>\n",
       "    <tr style=\"text-align: right;\">\n",
       "      <th></th>\n",
       "      <th>county_id</th>\n",
       "      <th>county_name</th>\n",
       "      <th>year_change</th>\n",
       "      <th>voter_reg_num</th>\n",
       "      <th>party_from</th>\n",
       "      <th>party_to</th>\n",
       "      <th>change_dt</th>\n",
       "    </tr>\n",
       "  </thead>\n",
       "  <tbody>\n",
       "    <tr>\n",
       "      <th>28060</th>\n",
       "      <td>32</td>\n",
       "      <td>DURHAM</td>\n",
       "      <td>2019</td>\n",
       "      <td>30327552</td>\n",
       "      <td>REP</td>\n",
       "      <td>UNA</td>\n",
       "      <td>05/03/2019</td>\n",
       "    </tr>\n",
       "    <tr>\n",
       "      <th>14099</th>\n",
       "      <td>16</td>\n",
       "      <td>CARTERET</td>\n",
       "      <td>2019</td>\n",
       "      <td>116431</td>\n",
       "      <td>UNA</td>\n",
       "      <td>DEM</td>\n",
       "      <td>10/01/2019</td>\n",
       "    </tr>\n",
       "    <tr>\n",
       "      <th>88990</th>\n",
       "      <td>76</td>\n",
       "      <td>RANDOLPH</td>\n",
       "      <td>2019</td>\n",
       "      <td>188827</td>\n",
       "      <td>UNA</td>\n",
       "      <td>DEM</td>\n",
       "      <td>08/05/2019</td>\n",
       "    </tr>\n",
       "    <tr>\n",
       "      <th>2223</th>\n",
       "      <td>3</td>\n",
       "      <td>ALLEGHANY</td>\n",
       "      <td>2019</td>\n",
       "      <td>11653</td>\n",
       "      <td>REP</td>\n",
       "      <td>DEM</td>\n",
       "      <td>08/22/2019</td>\n",
       "    </tr>\n",
       "    <tr>\n",
       "      <th>102745</th>\n",
       "      <td>92</td>\n",
       "      <td>WAKE</td>\n",
       "      <td>2019</td>\n",
       "      <td>10221584</td>\n",
       "      <td>UNA</td>\n",
       "      <td>DEM</td>\n",
       "      <td>01/30/2019</td>\n",
       "    </tr>\n",
       "  </tbody>\n",
       "</table>\n",
       "</div>"
      ],
      "text/plain": [
       "        county_id  county_name  year_change  voter_reg_num party_from  \\\n",
       "28060          32       DURHAM         2019       30327552        REP   \n",
       "14099          16     CARTERET         2019         116431        UNA   \n",
       "88990          76     RANDOLPH         2019         188827        UNA   \n",
       "2223            3    ALLEGHANY         2019          11653        REP   \n",
       "102745         92         WAKE         2019       10221584        UNA   \n",
       "\n",
       "       party_to   change_dt  \n",
       "28060       UNA  05/03/2019  \n",
       "14099       DEM  10/01/2019  \n",
       "88990       DEM  08/05/2019  \n",
       "2223        DEM  08/22/2019  \n",
       "102745      DEM  01/30/2019  "
      ]
     },
     "execution_count": 1,
     "metadata": {},
     "output_type": "execute_result"
    }
   ],
   "source": [
    "import pandas as pd\n",
    "df = pd.read_csv('data/2019_party_change_list.csv')\n",
    "df.sample(5)"
   ]
  },
  {
   "cell_type": "markdown",
   "metadata": {},
   "source": [
    "## EDA"
   ]
  },
  {
   "cell_type": "code",
   "execution_count": 2,
   "metadata": {},
   "outputs": [
    {
     "data": {
      "text/html": [
       "<style  type=\"text/css\" >\n",
       "</style><table id=\"T_7a1f3088_16b0_11ea_9e16_acde48001122\" ><thead>    <tr>        <th class=\"col_heading level0 col0\" >Party</th>        <th class=\"col_heading level0 col1\" >Percent of Voters</th>    </tr></thead><tbody>\n",
       "                <tr>\n",
       "                                <td id=\"T_7a1f3088_16b0_11ea_9e16_acde48001122row0_col0\" class=\"data row0 col0\" >UNA</td>\n",
       "                        <td id=\"T_7a1f3088_16b0_11ea_9e16_acde48001122row0_col1\" class=\"data row0 col1\" >0.46</td>\n",
       "            </tr>\n",
       "            <tr>\n",
       "                                <td id=\"T_7a1f3088_16b0_11ea_9e16_acde48001122row1_col0\" class=\"data row1 col0\" >REP</td>\n",
       "                        <td id=\"T_7a1f3088_16b0_11ea_9e16_acde48001122row1_col1\" class=\"data row1 col1\" >0.27</td>\n",
       "            </tr>\n",
       "            <tr>\n",
       "                                <td id=\"T_7a1f3088_16b0_11ea_9e16_acde48001122row2_col0\" class=\"data row2 col0\" >DEM</td>\n",
       "                        <td id=\"T_7a1f3088_16b0_11ea_9e16_acde48001122row2_col1\" class=\"data row2 col1\" >0.24</td>\n",
       "            </tr>\n",
       "            <tr>\n",
       "                                <td id=\"T_7a1f3088_16b0_11ea_9e16_acde48001122row3_col0\" class=\"data row3 col0\" >LIB</td>\n",
       "                        <td id=\"T_7a1f3088_16b0_11ea_9e16_acde48001122row3_col1\" class=\"data row3 col1\" >0.02</td>\n",
       "            </tr>\n",
       "            <tr>\n",
       "                                <td id=\"T_7a1f3088_16b0_11ea_9e16_acde48001122row4_col0\" class=\"data row4 col0\" >CST</td>\n",
       "                        <td id=\"T_7a1f3088_16b0_11ea_9e16_acde48001122row4_col1\" class=\"data row4 col1\" >0.01</td>\n",
       "            </tr>\n",
       "            <tr>\n",
       "                                <td id=\"T_7a1f3088_16b0_11ea_9e16_acde48001122row5_col0\" class=\"data row5 col0\" >GRE</td>\n",
       "                        <td id=\"T_7a1f3088_16b0_11ea_9e16_acde48001122row5_col1\" class=\"data row5 col1\" >0</td>\n",
       "            </tr>\n",
       "    </tbody></table>"
      ],
      "text/plain": [
       "<pandas.io.formats.style.Styler at 0x1a23ef2da0>"
      ]
     },
     "execution_count": 2,
     "metadata": {},
     "output_type": "execute_result"
    }
   ],
   "source": [
    "from viz import make_percent_df\n",
    "\n",
    "df_percent = make_percent_df(df)\n",
    "df_percent"
   ]
  },
  {
   "cell_type": "markdown",
   "metadata": {},
   "source": [
    "Due to their low frequency, entries that are either joining or leaving the Libertarian, Constitutional, or Green parties were removed. SMOTE data was created to deal with the unbalanced sampling. The new data files were saved in the data folder."
   ]
  },
  {
   "cell_type": "markdown",
   "metadata": {},
   "source": [
    "## Methodology\n",
    "\n",
    "We performed a train test split on our labeled data in order to train and validate our model. In order to balance the Democratic and Republican targets with the Unaffiliated target, we used the Synthetic Minority Over-sampling Technique (SMOTE) to create synthetic data for the Republican and Democratic outcomes. We used a Multinomial Logistic Regression Model to make our predictions. A grid search was then used to find the best hyper parameters. For our model we focused on the C and penalty parameters. The grid search recommended a value of 1.0 for C and l2 (Lasso) for the penalty. The 'saga' solver was used for it's speed and for its compatibility with Lasso."
   ]
  },
  {
   "cell_type": "code",
   "execution_count": 3,
   "metadata": {},
   "outputs": [
    {
     "name": "stderr",
     "output_type": "stream",
     "text": [
      "//anaconda3/lib/python3.7/site-packages/sklearn/linear_model/sag.py:337: ConvergenceWarning: The max_iter was reached which means the coef_ did not converge\n",
      "  \"the coef_ did not converge\", ConvergenceWarning)\n"
     ]
    },
    {
     "data": {
      "text/plain": [
       "GridSearchCV(cv=5, error_score='raise-deprecating',\n",
       "             estimator=LogisticRegression(C=1.0, class_weight=None, dual=False,\n",
       "                                          fit_intercept=True,\n",
       "                                          intercept_scaling=1, l1_ratio=None,\n",
       "                                          max_iter=100,\n",
       "                                          multi_class='multinomial',\n",
       "                                          n_jobs=None, penalty='l2',\n",
       "                                          random_state=None, solver='saga',\n",
       "                                          tol=0.0001, verbose=0,\n",
       "                                          warm_start=False),\n",
       "             iid='warn', n_jobs=None,\n",
       "             param_grid=[{'C': [0.001, 0.01, 0.1, 1, 10, 100],\n",
       "                          'penalty': ['l1', 'l2']}],\n",
       "             pre_dispatch='2*n_jobs', refit=True, return_train_score=False,\n",
       "             scoring=None, verbose=0)"
      ]
     },
     "execution_count": 3,
     "metadata": {},
     "output_type": "execute_result"
    }
   ],
   "source": [
    "from sklearn.model_selection import GridSearchCV\n",
    "from sklearn.linear_model import LogisticRegression\n",
    "from data_prep import data_preprocessing\n",
    "\n",
    "X_train, y_train, X_test, y_test = data_preprocessing()\n",
    "\n",
    "tuned_parameters = [{'C': [0.001, 0.01, 0.1, 1, 10, 100],\n",
    "                     'penalty': ['l1', 'l2']}]\n",
    "\n",
    "clfnc_tuned = GridSearchCV(LogisticRegression(multi_class='multinomial',\n",
    "                                              solver='saga'),\n",
    "                           tuned_parameters, cv=5)\n",
    "\n",
    "clfnc_tuned.fit(X_train, y_train)"
   ]
  },
  {
   "cell_type": "markdown",
   "metadata": {},
   "source": [
    "## Data Visualization"
   ]
  },
  {
   "cell_type": "code",
   "execution_count": 4,
   "metadata": {},
   "outputs": [
    {
     "data": {
      "image/png": "[encoded data removed]",
      "text/plain": [
       "<Figure size 432x288 with 2 Axes>"
      ]
     },
     "metadata": {
      "needs_background": "light"
     },
     "output_type": "display_data"
    }
   ],
   "source": [
    "from viz import confusion_matrix_heat_map\n",
    "%matplotlib inline\n",
    "\n",
    "confusion_matrix_heat_map(clfnc_tuned, X_test, y_test)"
   ]
  },
  {
   "cell_type": "markdown",
   "metadata": {},
   "source": [
    "The overall score for our model on the test data is:"
   ]
  },
  {
   "cell_type": "code",
   "execution_count": 5,
   "metadata": {},
   "outputs": [
    {
     "data": {
      "text/plain": [
       "0.6845786302887612"
      ]
     },
     "execution_count": 5,
     "metadata": {},
     "output_type": "execute_result"
    }
   ],
   "source": [
    "clfnc_tuned.score(X_test, y_test)"
   ]
  },
  {
   "cell_type": "markdown",
   "metadata": {},
   "source": [
    "## Findings and Conclusions\n",
    "\n",
    "- Algorithm predicts with close to 70% accuracy\n",
    "- Unaffiliated predicted with greater than 80% accuracy\n",
    "\n",
    "Predictive power seems relatively high considering that only two features were used.\n",
    "\n",
    "It also makes sense that the \"Unaffiliated\" party was predicted with a higher accuracy since the original data (non-SMOTE'd data) was the dominant target with greater than 40,000 voters. "
   ]
  },
  {
   "cell_type": "markdown",
   "metadata": {},
   "source": [
    "## Future Work\n",
    "\n",
    "Additional work moving forward wil include:\n",
    "- adding more features to the model (how often a voter votes, last time a voter voted, type of election last voted in -- all these represent voter engagement levels) \n",
    "- adding more data to the model from previous years"
   ]
  },
  {
   "cell_type": "markdown",
   "metadata": {},
   "source": [
    "https://dl.ncsbe.gov/index.html?prefix=ENRS/"
   ]
  }
 ],
 "metadata": {
  "kernelspec": {
   "display_name": "Python 3",
   "language": "python",
   "name": "python3"
  },
  "language_info": {
   "codemirror_mode": {
    "name": "ipython",
    "version": 3
   },
   "file_extension": ".py",
   "mimetype": "text/x-python",
   "name": "python",
   "nbconvert_exporter": "python",
   "pygments_lexer": "ipython3",
   "version": "3.7.3"
  }
 },
 "nbformat": 4,
 "nbformat_minor": 2
}
