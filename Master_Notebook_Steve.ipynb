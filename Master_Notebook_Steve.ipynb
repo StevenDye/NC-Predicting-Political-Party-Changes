{
 "cells": [
  {
   "cell_type": "markdown",
   "metadata": {},
   "source": [
    "# Predicting Voter Registration Party Affiliation\n",
    "\n",
    "Irv Campbell and Steven Dye\n",
    "\n",
    "Module 4: Logistic Regression\n",
    "\n",
    "## Problem Statement\n",
    "\n",
    "### Can we predict what political party voters in North Carolina change to based on their current political party affiliation and by what county they live in?\n",
    "\n",
    "We attempted to predict what political party voters in North Carolina changed to based on their previous political party and by what county they live in.\n",
    "\n",
    "## Data\n",
    "\n",
    "The data was obtained from the North Carolina State Board of Elections website: https://www.ncsbe.gov/index.html on 12/2/2019.\n",
    "\n",
    "The data consists of six possible political party affiliations: Unaffiliated, Republican, Democratic, Libertarian, Constitutional, and Green. Due to their low frequency, entries that are either joining or leaving the Libertarian, Constitutional, or Green parties were removed. SMOTE data was created to deal with the unbalanced sampling. The new data files were saved in the data folder."
   ]
  },
  {
   "cell_type": "code",
   "execution_count": 2,
   "metadata": {},
   "outputs": [],
   "source": [
    "from data_prep import data_preprocessing\n",
    "\n",
    "X_train, y_train, X_test, y_test = data_preprocessing()"
   ]
  },
  {
   "cell_type": "markdown",
   "metadata": {},
   "source": [
    "## Methodology\n",
    "\n",
    "We used sklearn.train_test_split and cross validation.\n",
    "\n",
    "We used a Synthetic Minority Over-sampling Technique (SMOTE).\n",
    "\n",
    "We used a Multinomial Logistic Regression Model to make our predictions.\n",
    "\n",
    "We used a grid search to find the best hyper parameters.\n",
    "\n",
    "We chose the 'saga' solver for it's speed and for its compatibility with Lasso."
   ]
  },
  {
   "cell_type": "code",
   "execution_count": 5,
   "metadata": {},
   "outputs": [
    {
     "name": "stderr",
     "output_type": "stream",
     "text": [
      "//anaconda3/lib/python3.7/site-packages/sklearn/linear_model/sag.py:337: ConvergenceWarning: The max_iter was reached which means the coef_ did not converge\n",
      "  \"the coef_ did not converge\", ConvergenceWarning)\n"
     ]
    },
    {
     "data": {
      "text/plain": [
       "GridSearchCV(cv=5, error_score='raise-deprecating',\n",
       "             estimator=LogisticRegression(C=1.0, class_weight=None, dual=False,\n",
       "                                          fit_intercept=True,\n",
       "                                          intercept_scaling=1, l1_ratio=None,\n",
       "                                          max_iter=100,\n",
       "                                          multi_class='multinomial',\n",
       "                                          n_jobs=None, penalty='l2',\n",
       "                                          random_state=None, solver='saga',\n",
       "                                          tol=0.0001, verbose=0,\n",
       "                                          warm_start=False),\n",
       "             iid='warn', n_jobs=None,\n",
       "             param_grid=[{'C': [0.001, 0.01, 0.1, 1, 10, 100],\n",
       "                          'penalty': ['l1', 'l2']}],\n",
       "             pre_dispatch='2*n_jobs', refit=True, return_train_score=False,\n",
       "             scoring=None, verbose=0)"
      ]
     },
     "execution_count": 5,
     "metadata": {},
     "output_type": "execute_result"
    }
   ],
   "source": [
    "from sklearn.model_selection import GridSearchCV\n",
    "from sklearn.linear_model import LogisticRegression\n",
    "\n",
    "tuned_parameters = [{'C': [0.001, 0.01, 0.1, 1, 10, 100],\n",
    "                     'penalty': ['l1', 'l2']}]\n",
    "\n",
    "clfnc_tuned = GridSearchCV(LogisticRegression(multi_class='multinomial',\n",
    "                                              solver='saga'),\n",
    "                           tuned_parameters, cv=5)\n",
    "\n",
    "clfnc_tuned.fit(X_train, y_train)"
   ]
  },
  {
   "cell_type": "markdown",
   "metadata": {},
   "source": [
    "## Data Visualization"
   ]
  },
  {
   "cell_type": "code",
   "execution_count": 7,
   "metadata": {},
   "outputs": [
    {
     "data": {
      "image/png": "[encoded data removed]",
      "text/plain": [
       "<Figure size 432x288 with 2 Axes>"
      ]
     },
     "metadata": {
      "needs_background": "light"
     },
     "output_type": "display_data"
    }
   ],
   "source": [
    "from viz import confusion_matrix_heat_map\n",
    "%matplotlib inline\n",
    "\n",
    "confusion_matrix_heat_map(clfnc_tuned, X_test, y_test)"
   ]
  },
  {
   "cell_type": "code",
   "execution_count": 12,
   "metadata": {},
   "outputs": [
    {
     "data": {
      "text/plain": [
       "0.6882141125960806"
      ]
     },
     "execution_count": 12,
     "metadata": {},
     "output_type": "execute_result"
    }
   ],
   "source": [
    "clfnc_tuned.score(X_test, y_test)"
   ]
  },
  {
   "cell_type": "markdown",
   "metadata": {},
   "source": [
    "## Findings and Conclusions\n",
    "\n",
    "- Algorithm predicts with close to 70% accuracy\n",
    "- Unaffiliated predicted with greater than 80% accuracy\n",
    "\n",
    "Predictive power seems good"
   ]
  },
  {
   "cell_type": "markdown",
   "metadata": {},
   "source": [
    "## Future Work\n",
    "\n",
    "Add features to model (how often a voter votes, last time a voter voted, type of election last voted in) and add more data to the model (2018, 2017, etc.)"
   ]
  },
  {
   "cell_type": "markdown",
   "metadata": {},
   "source": [
    "https://dl.ncsbe.gov/index.html?prefix=ENRS/"
   ]
  }
 ],
 "metadata": {
  "kernelspec": {
   "display_name": "Python 3",
   "language": "python",
   "name": "python3"
  },
  "language_info": {
   "codemirror_mode": {
    "name": "ipython",
    "version": 3
   },
   "file_extension": ".py",
   "mimetype": "text/x-python",
   "name": "python",
   "nbconvert_exporter": "python",
   "pygments_lexer": "ipython3",
   "version": "3.7.3"
  }
 },
 "nbformat": 4,
 "nbformat_minor": 2
}
