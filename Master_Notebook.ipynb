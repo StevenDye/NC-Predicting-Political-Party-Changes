{
 "cells": [
  {
   "cell_type": "code",
   "execution_count": 2,
   "metadata": {},
   "outputs": [],
   "source": [
    "https://www.ncsbe.gov/index.html\n",
    "https://dl.ncsbe.gov/index.html?prefix=ENRS/"
   ]
  },
  {
   "cell_type": "code",
   "execution_count": 24,
   "metadata": {},
   "outputs": [],
   "source": [
    "# Possible hypothesis:\n",
    "\n",
    "# If you are changing your party registrtaion, we can guess what party you changed to based on what \n",
    "# county you live in and what your original party registration was.\n",
    "\n",
    "# Can also include year into analysis\n",
    "\n",
    "# Can determine growth of Democrtatic and Republican parties, as well as independents based on voter \n",
    "# registration and date\n",
    "\n",
    "# Based on how many registered Ds, Rs, and I's, we can predict who will win a particular election."
   ]
  },
  {
   "cell_type": "code",
   "execution_count": 25,
   "metadata": {},
   "outputs": [],
   "source": [
    "import pandas as pd"
   ]
  },
  {
   "cell_type": "code",
   "execution_count": 40,
   "metadata": {},
   "outputs": [],
   "source": [
    "# Records of changing party registration in 2019\n",
    "df = pd.read_csv('2019_party_change_list.csv')\n",
    "\n",
    "# Election results: Municipal Elections: November 5 2019\n",
    "results_df = pd.read_csv('results_pct_20191105.txt', sep=\"\\t\", header=0) # 2019 results\n",
    "\n",
    "# Current Alamance county data: voter registration and voting history\n",
    "#Alamance_cur_vot_reg_df = pd.read_csv('ncvoter1.txt', sep=\"\\t\", header=0)\n",
    "Alamance_cur_vot_hist_df = pd.read_csv('ncvhis1.txt', sep=\"\\t\", header=0)"
   ]
  },
  {
   "cell_type": "code",
   "execution_count": 41,
   "metadata": {},
   "outputs": [
    {
     "data": {
      "text/html": [
       "<div>\n",
       "<style scoped>\n",
       "    .dataframe tbody tr th:only-of-type {\n",
       "        vertical-align: middle;\n",
       "    }\n",
       "\n",
       "    .dataframe tbody tr th {\n",
       "        vertical-align: top;\n",
       "    }\n",
       "\n",
       "    .dataframe thead th {\n",
       "        text-align: right;\n",
       "    }\n",
       "</style>\n",
       "<table border=\"1\" class=\"dataframe\">\n",
       "  <thead>\n",
       "    <tr style=\"text-align: right;\">\n",
       "      <th></th>\n",
       "      <th>county_id</th>\n",
       "      <th>county_desc</th>\n",
       "      <th>voter_reg_num</th>\n",
       "      <th>election_lbl</th>\n",
       "      <th>election_desc</th>\n",
       "      <th>voting_method</th>\n",
       "      <th>voted_party_cd</th>\n",
       "      <th>voted_party_desc</th>\n",
       "      <th>pct_label</th>\n",
       "      <th>pct_description</th>\n",
       "      <th>ncid</th>\n",
       "      <th>voted_county_id</th>\n",
       "      <th>voted_county_desc</th>\n",
       "      <th>vtd_label</th>\n",
       "      <th>vtd_description</th>\n",
       "    </tr>\n",
       "  </thead>\n",
       "  <tbody>\n",
       "    <tr>\n",
       "      <th>0</th>\n",
       "      <td>1</td>\n",
       "      <td>ALAMANCE</td>\n",
       "      <td>9050398</td>\n",
       "      <td>11/08/2016</td>\n",
       "      <td>11/08/2016 GENERAL</td>\n",
       "      <td>ABSENTEE ONESTOP</td>\n",
       "      <td>UNA</td>\n",
       "      <td>UNAFFILIATED</td>\n",
       "      <td>07</td>\n",
       "      <td>ALBRIGHT</td>\n",
       "      <td>AA100000</td>\n",
       "      <td>1</td>\n",
       "      <td>ALAMANCE</td>\n",
       "      <td>07</td>\n",
       "      <td>07</td>\n",
       "    </tr>\n",
       "    <tr>\n",
       "      <th>1</th>\n",
       "      <td>1</td>\n",
       "      <td>ALAMANCE</td>\n",
       "      <td>9050405</td>\n",
       "      <td>11/04/2014</td>\n",
       "      <td>11/04/2014 GENERAL</td>\n",
       "      <td>IN-PERSON</td>\n",
       "      <td>REP</td>\n",
       "      <td>REPUBLICAN</td>\n",
       "      <td>09S</td>\n",
       "      <td>SOUTH THOMPSON</td>\n",
       "      <td>AA100006</td>\n",
       "      <td>1</td>\n",
       "      <td>ALAMANCE</td>\n",
       "      <td>09S</td>\n",
       "      <td>09S</td>\n",
       "    </tr>\n",
       "    <tr>\n",
       "      <th>2</th>\n",
       "      <td>1</td>\n",
       "      <td>ALAMANCE</td>\n",
       "      <td>9050405</td>\n",
       "      <td>11/08/2016</td>\n",
       "      <td>11/08/2016 GENERAL</td>\n",
       "      <td>ABSENTEE ONESTOP</td>\n",
       "      <td>REP</td>\n",
       "      <td>REPUBLICAN</td>\n",
       "      <td>09S</td>\n",
       "      <td>SOUTH THOMPSON</td>\n",
       "      <td>AA100006</td>\n",
       "      <td>1</td>\n",
       "      <td>ALAMANCE</td>\n",
       "      <td>09S</td>\n",
       "      <td>09S</td>\n",
       "    </tr>\n",
       "    <tr>\n",
       "      <th>3</th>\n",
       "      <td>1</td>\n",
       "      <td>ALAMANCE</td>\n",
       "      <td>9050405</td>\n",
       "      <td>03/15/2016</td>\n",
       "      <td>03/15/2016 PRIMARY</td>\n",
       "      <td>IN-PERSON</td>\n",
       "      <td>REP</td>\n",
       "      <td>REPUBLICAN</td>\n",
       "      <td>09S</td>\n",
       "      <td>SOUTH THOMPSON</td>\n",
       "      <td>AA100006</td>\n",
       "      <td>1</td>\n",
       "      <td>ALAMANCE</td>\n",
       "      <td>09S</td>\n",
       "      <td>09S</td>\n",
       "    </tr>\n",
       "    <tr>\n",
       "      <th>4</th>\n",
       "      <td>1</td>\n",
       "      <td>ALAMANCE</td>\n",
       "      <td>9050405</td>\n",
       "      <td>11/06/2018</td>\n",
       "      <td>11/06/2018 GENERAL</td>\n",
       "      <td>IN-PERSON</td>\n",
       "      <td>REP</td>\n",
       "      <td>REPUBLICAN</td>\n",
       "      <td>09S</td>\n",
       "      <td>SOUTH THOMPSON</td>\n",
       "      <td>AA100006</td>\n",
       "      <td>1</td>\n",
       "      <td>ALAMANCE</td>\n",
       "      <td>09S</td>\n",
       "      <td>09S</td>\n",
       "    </tr>\n",
       "  </tbody>\n",
       "</table>\n",
       "</div>"
      ],
      "text/plain": [
       "   county_id county_desc  voter_reg_num election_lbl       election_desc  \\\n",
       "0          1    ALAMANCE        9050398   11/08/2016  11/08/2016 GENERAL   \n",
       "1          1    ALAMANCE        9050405   11/04/2014  11/04/2014 GENERAL   \n",
       "2          1    ALAMANCE        9050405   11/08/2016  11/08/2016 GENERAL   \n",
       "3          1    ALAMANCE        9050405   03/15/2016  03/15/2016 PRIMARY   \n",
       "4          1    ALAMANCE        9050405   11/06/2018  11/06/2018 GENERAL   \n",
       "\n",
       "      voting_method voted_party_cd voted_party_desc pct_label pct_description  \\\n",
       "0  ABSENTEE ONESTOP            UNA     UNAFFILIATED        07        ALBRIGHT   \n",
       "1         IN-PERSON            REP       REPUBLICAN       09S  SOUTH THOMPSON   \n",
       "2  ABSENTEE ONESTOP            REP       REPUBLICAN       09S  SOUTH THOMPSON   \n",
       "3         IN-PERSON            REP       REPUBLICAN       09S  SOUTH THOMPSON   \n",
       "4         IN-PERSON            REP       REPUBLICAN       09S  SOUTH THOMPSON   \n",
       "\n",
       "       ncid  voted_county_id voted_county_desc vtd_label vtd_description  \n",
       "0  AA100000                1          ALAMANCE        07              07  \n",
       "1  AA100006                1          ALAMANCE       09S             09S  \n",
       "2  AA100006                1          ALAMANCE       09S             09S  \n",
       "3  AA100006                1          ALAMANCE       09S             09S  \n",
       "4  AA100006                1          ALAMANCE       09S             09S  "
      ]
     },
     "execution_count": 41,
     "metadata": {},
     "output_type": "execute_result"
    }
   ],
   "source": [
    "Alamance_cur_vot_hist_df.head()"
   ]
  },
  {
   "cell_type": "code",
   "execution_count": 27,
   "metadata": {
    "scrolled": true
   },
   "outputs": [
    {
     "name": "stdout",
     "output_type": "stream",
     "text": [
      "<class 'pandas.core.frame.DataFrame'>\n",
      "RangeIndex: 108336 entries, 0 to 108335\n",
      "Data columns (total 7 columns):\n",
      "county_id        108336 non-null int64\n",
      " county_name     108336 non-null object\n",
      "year_change      108336 non-null int64\n",
      "voter_reg_num    108336 non-null int64\n",
      "party_from       108336 non-null object\n",
      "party_to         108336 non-null object\n",
      "change_dt        108336 non-null object\n",
      "dtypes: int64(3), object(4)\n",
      "memory usage: 5.8+ MB\n"
     ]
    },
    {
     "data": {
      "text/plain": [
       "(           county_id  year_change  voter_reg_num\n",
       " count  108336.000000     108336.0   1.083360e+05\n",
       " mean       54.702103       2019.0   1.159754e+08\n",
       " std        27.558794          0.0   2.847375e+08\n",
       " min         1.000000       2019.0   2.000000e+00\n",
       " 25%        33.000000       2019.0   1.444100e+05\n",
       " 50%        60.000000       2019.0   7.622846e+06\n",
       " 75%        79.000000       2019.0   3.117733e+07\n",
       " max       100.000000       2019.0   1.000543e+09, None)"
      ]
     },
     "execution_count": 27,
     "metadata": {},
     "output_type": "execute_result"
    }
   ],
   "source": [
    "df.describe(), df.info()"
   ]
  },
  {
   "cell_type": "code",
   "execution_count": 28,
   "metadata": {},
   "outputs": [
    {
     "data": {
      "text/html": [
       "<div>\n",
       "<style scoped>\n",
       "    .dataframe tbody tr th:only-of-type {\n",
       "        vertical-align: middle;\n",
       "    }\n",
       "\n",
       "    .dataframe tbody tr th {\n",
       "        vertical-align: top;\n",
       "    }\n",
       "\n",
       "    .dataframe thead th {\n",
       "        text-align: right;\n",
       "    }\n",
       "</style>\n",
       "<table border=\"1\" class=\"dataframe\">\n",
       "  <thead>\n",
       "    <tr style=\"text-align: right;\">\n",
       "      <th></th>\n",
       "      <th>county_id</th>\n",
       "      <th>county_name</th>\n",
       "      <th>year_change</th>\n",
       "      <th>voter_reg_num</th>\n",
       "      <th>party_from</th>\n",
       "      <th>party_to</th>\n",
       "      <th>change_dt</th>\n",
       "    </tr>\n",
       "  </thead>\n",
       "  <tbody>\n",
       "    <tr>\n",
       "      <th>0</th>\n",
       "      <td>1</td>\n",
       "      <td>ALAMANCE</td>\n",
       "      <td>2019</td>\n",
       "      <td>6457900</td>\n",
       "      <td>REP</td>\n",
       "      <td>UNA</td>\n",
       "      <td>01/17/2019</td>\n",
       "    </tr>\n",
       "    <tr>\n",
       "      <th>1</th>\n",
       "      <td>1</td>\n",
       "      <td>ALAMANCE</td>\n",
       "      <td>2019</td>\n",
       "      <td>9089942</td>\n",
       "      <td>UNA</td>\n",
       "      <td>REP</td>\n",
       "      <td>01/17/2019</td>\n",
       "    </tr>\n",
       "    <tr>\n",
       "      <th>2</th>\n",
       "      <td>1</td>\n",
       "      <td>ALAMANCE</td>\n",
       "      <td>2019</td>\n",
       "      <td>9063104</td>\n",
       "      <td>UNA</td>\n",
       "      <td>REP</td>\n",
       "      <td>01/17/2019</td>\n",
       "    </tr>\n",
       "    <tr>\n",
       "      <th>3</th>\n",
       "      <td>1</td>\n",
       "      <td>ALAMANCE</td>\n",
       "      <td>2019</td>\n",
       "      <td>7572900</td>\n",
       "      <td>REP</td>\n",
       "      <td>UNA</td>\n",
       "      <td>01/17/2019</td>\n",
       "    </tr>\n",
       "    <tr>\n",
       "      <th>4</th>\n",
       "      <td>1</td>\n",
       "      <td>ALAMANCE</td>\n",
       "      <td>2019</td>\n",
       "      <td>9150051</td>\n",
       "      <td>DEM</td>\n",
       "      <td>UNA</td>\n",
       "      <td>01/17/2019</td>\n",
       "    </tr>\n",
       "  </tbody>\n",
       "</table>\n",
       "</div>"
      ],
      "text/plain": [
       "   county_id  county_name  year_change  voter_reg_num party_from party_to  \\\n",
       "0          1     ALAMANCE         2019        6457900        REP      UNA   \n",
       "1          1     ALAMANCE         2019        9089942        UNA      REP   \n",
       "2          1     ALAMANCE         2019        9063104        UNA      REP   \n",
       "3          1     ALAMANCE         2019        7572900        REP      UNA   \n",
       "4          1     ALAMANCE         2019        9150051        DEM      UNA   \n",
       "\n",
       "    change_dt  \n",
       "0  01/17/2019  \n",
       "1  01/17/2019  \n",
       "2  01/17/2019  \n",
       "3  01/17/2019  \n",
       "4  01/17/2019  "
      ]
     },
     "execution_count": 28,
     "metadata": {},
     "output_type": "execute_result"
    }
   ],
   "source": [
    "df.head()"
   ]
  },
  {
   "cell_type": "code",
   "execution_count": 29,
   "metadata": {},
   "outputs": [
    {
     "data": {
      "text/plain": [
       "Index(['county_id', ' county_name', 'year_change', 'voter_reg_num',\n",
       "       'party_from', 'party_to', 'change_dt'],\n",
       "      dtype='object')"
      ]
     },
     "execution_count": 29,
     "metadata": {},
     "output_type": "execute_result"
    }
   ],
   "source": [
    "df.columns"
   ]
  },
  {
   "cell_type": "code",
   "execution_count": 35,
   "metadata": {},
   "outputs": [
    {
     "data": {
      "text/plain": [
       "array([  1,   2,   3,   4,   5,   6,   7,   8,   9,  10,  11,  12,  13,\n",
       "        14,  15,  16,  17,  18,  19,  20,  21,  22,  23,  24,  25,  26,\n",
       "        27,  28,  29,  30,  31,  32,  33,  34,  35,  36,  37,  38,  39,\n",
       "        40,  41,  42,  43,  44,  45,  46,  47,  48,  49,  50,  51,  52,\n",
       "        53,  54,  55,  56,  57,  58,  59,  60,  61,  62,  63,  64,  65,\n",
       "        66,  67,  68,  69,  70,  71,  72,  73,  74,  75,  76,  77,  78,\n",
       "        79,  80,  81,  82,  83,  84,  85,  86,  87,  88,  89,  90,  91,\n",
       "        92,  93,  94,  95,  96,  97,  98,  99, 100])"
      ]
     },
     "execution_count": 35,
     "metadata": {},
     "output_type": "execute_result"
    }
   ],
   "source": [
    "df.county_id.unique()"
   ]
  },
  {
   "cell_type": "code",
   "execution_count": 38,
   "metadata": {},
   "outputs": [
    {
     "data": {
      "text/plain": [
       "100"
      ]
     },
     "execution_count": 38,
     "metadata": {},
     "output_type": "execute_result"
    }
   ],
   "source": [
    "len(df[' county_name'].unique())"
   ]
  },
  {
   "cell_type": "code",
   "execution_count": null,
   "metadata": {},
   "outputs": [],
   "source": [
    "# Looking at 300 classifications"
   ]
  },
  {
   "cell_type": "code",
   "execution_count": 20,
   "metadata": {},
   "outputs": [
    {
     "data": {
      "text/html": [
       "<div>\n",
       "<style scoped>\n",
       "    .dataframe tbody tr th:only-of-type {\n",
       "        vertical-align: middle;\n",
       "    }\n",
       "\n",
       "    .dataframe tbody tr th {\n",
       "        vertical-align: top;\n",
       "    }\n",
       "\n",
       "    .dataframe thead th {\n",
       "        text-align: right;\n",
       "    }\n",
       "</style>\n",
       "<table border=\"1\" class=\"dataframe\">\n",
       "  <thead>\n",
       "    <tr style=\"text-align: right;\">\n",
       "      <th></th>\n",
       "      <th>Contest Group ID</th>\n",
       "      <th>Vote For</th>\n",
       "      <th>Election Day</th>\n",
       "      <th>One Stop</th>\n",
       "      <th>Absentee by Mail</th>\n",
       "      <th>Provisional</th>\n",
       "      <th>Total Votes</th>\n",
       "    </tr>\n",
       "  </thead>\n",
       "  <tbody>\n",
       "    <tr>\n",
       "      <th>count</th>\n",
       "      <td>33787.000000</td>\n",
       "      <td>33787.000000</td>\n",
       "      <td>33787.000000</td>\n",
       "      <td>33787.000000</td>\n",
       "      <td>33787.000000</td>\n",
       "      <td>33787.000000</td>\n",
       "      <td>33787.000000</td>\n",
       "    </tr>\n",
       "    <tr>\n",
       "      <th>mean</th>\n",
       "      <td>79833.420576</td>\n",
       "      <td>2.284725</td>\n",
       "      <td>51.561488</td>\n",
       "      <td>16.300707</td>\n",
       "      <td>0.586557</td>\n",
       "      <td>0.156362</td>\n",
       "      <td>68.605114</td>\n",
       "    </tr>\n",
       "    <tr>\n",
       "      <th>std</th>\n",
       "      <td>205382.799810</td>\n",
       "      <td>1.347410</td>\n",
       "      <td>101.359641</td>\n",
       "      <td>71.628672</td>\n",
       "      <td>9.497331</td>\n",
       "      <td>2.227693</td>\n",
       "      <td>139.978531</td>\n",
       "    </tr>\n",
       "    <tr>\n",
       "      <th>min</th>\n",
       "      <td>1.000000</td>\n",
       "      <td>1.000000</td>\n",
       "      <td>0.000000</td>\n",
       "      <td>-1.000000</td>\n",
       "      <td>0.000000</td>\n",
       "      <td>0.000000</td>\n",
       "      <td>0.000000</td>\n",
       "    </tr>\n",
       "    <tr>\n",
       "      <th>25%</th>\n",
       "      <td>3.000000</td>\n",
       "      <td>1.000000</td>\n",
       "      <td>0.000000</td>\n",
       "      <td>0.000000</td>\n",
       "      <td>0.000000</td>\n",
       "      <td>0.000000</td>\n",
       "      <td>0.000000</td>\n",
       "    </tr>\n",
       "    <tr>\n",
       "      <th>50%</th>\n",
       "      <td>9.000000</td>\n",
       "      <td>2.000000</td>\n",
       "      <td>1.000000</td>\n",
       "      <td>0.000000</td>\n",
       "      <td>0.000000</td>\n",
       "      <td>0.000000</td>\n",
       "      <td>4.000000</td>\n",
       "    </tr>\n",
       "    <tr>\n",
       "      <th>75%</th>\n",
       "      <td>21.000000</td>\n",
       "      <td>3.000000</td>\n",
       "      <td>59.000000</td>\n",
       "      <td>7.000000</td>\n",
       "      <td>0.000000</td>\n",
       "      <td>0.000000</td>\n",
       "      <td>77.000000</td>\n",
       "    </tr>\n",
       "    <tr>\n",
       "      <th>max</th>\n",
       "      <td>980019.000000</td>\n",
       "      <td>7.000000</td>\n",
       "      <td>1219.000000</td>\n",
       "      <td>3226.000000</td>\n",
       "      <td>666.000000</td>\n",
       "      <td>153.000000</td>\n",
       "      <td>3226.000000</td>\n",
       "    </tr>\n",
       "  </tbody>\n",
       "</table>\n",
       "</div>"
      ],
      "text/plain": [
       "       Contest Group ID      Vote For  Election Day      One Stop  \\\n",
       "count      33787.000000  33787.000000  33787.000000  33787.000000   \n",
       "mean       79833.420576      2.284725     51.561488     16.300707   \n",
       "std       205382.799810      1.347410    101.359641     71.628672   \n",
       "min            1.000000      1.000000      0.000000     -1.000000   \n",
       "25%            3.000000      1.000000      0.000000      0.000000   \n",
       "50%            9.000000      2.000000      1.000000      0.000000   \n",
       "75%           21.000000      3.000000     59.000000      7.000000   \n",
       "max       980019.000000      7.000000   1219.000000   3226.000000   \n",
       "\n",
       "       Absentee by Mail   Provisional   Total Votes  \n",
       "count      33787.000000  33787.000000  33787.000000  \n",
       "mean           0.586557      0.156362     68.605114  \n",
       "std            9.497331      2.227693    139.978531  \n",
       "min            0.000000      0.000000      0.000000  \n",
       "25%            0.000000      0.000000      0.000000  \n",
       "50%            0.000000      0.000000      4.000000  \n",
       "75%            0.000000      0.000000     77.000000  \n",
       "max          666.000000    153.000000   3226.000000  "
      ]
     },
     "execution_count": 20,
     "metadata": {},
     "output_type": "execute_result"
    }
   ],
   "source": [
    "results_df.describe()"
   ]
  },
  {
   "cell_type": "code",
   "execution_count": 21,
   "metadata": {},
   "outputs": [
    {
     "name": "stdout",
     "output_type": "stream",
     "text": [
      "<class 'pandas.core.frame.DataFrame'>\n",
      "RangeIndex: 33787 entries, 0 to 33786\n",
      "Data columns (total 15 columns):\n",
      "County              33787 non-null object\n",
      "Election Date       33787 non-null object\n",
      "Precinct            33787 non-null object\n",
      "Contest Group ID    33787 non-null int64\n",
      "Contest Type        33787 non-null object\n",
      "Contest Name        33787 non-null object\n",
      "Choice              33787 non-null object\n",
      "Choice Party        21587 non-null object\n",
      "Vote For            33787 non-null int64\n",
      "Election Day        33787 non-null int64\n",
      "One Stop            33787 non-null int64\n",
      "Absentee by Mail    33787 non-null int64\n",
      "Provisional         33787 non-null int64\n",
      "Total Votes         33787 non-null int64\n",
      "Real Precinct       33787 non-null object\n",
      "dtypes: int64(7), object(8)\n",
      "memory usage: 3.9+ MB\n"
     ]
    }
   ],
   "source": [
    "results_df.info()"
   ]
  },
  {
   "cell_type": "code",
   "execution_count": null,
   "metadata": {},
   "outputs": [],
   "source": []
  }
 ],
 "metadata": {
  "kernelspec": {
   "display_name": "Python 3",
   "language": "python",
   "name": "python3"
  },
  "language_info": {
   "codemirror_mode": {
    "name": "ipython",
    "version": 3
   },
   "file_extension": ".py",
   "mimetype": "text/x-python",
   "name": "python",
   "nbconvert_exporter": "python",
   "pygments_lexer": "ipython3",
   "version": "3.6.5"
  }
 },
 "nbformat": 4,
 "nbformat_minor": 2
}
